{
 "cells": [
  {
   "cell_type": "code",
   "execution_count": 1,
   "id": "d21f69b8",
   "metadata": {},
   "outputs": [],
   "source": [
    "%matplotlib inline"
   ]
  },
  {
   "cell_type": "code",
   "execution_count": 2,
   "id": "74ff4e67",
   "metadata": {},
   "outputs": [
    {
     "data": {
      "text/html": [
       "        <script type=\"text/javascript\">\n",
       "        window.PlotlyConfig = {MathJaxConfig: 'local'};\n",
       "        if (window.MathJax) {MathJax.Hub.Config({SVG: {font: \"STIX-Web\"}});}\n",
       "        if (typeof require !== 'undefined') {\n",
       "        require.undef(\"plotly\");\n",
       "        requirejs.config({\n",
       "            paths: {\n",
       "                'plotly': ['https://cdn.plot.ly/plotly-2.9.0.min']\n",
       "            }\n",
       "        });\n",
       "        require(['plotly'], function(Plotly) {\n",
       "            window._Plotly = Plotly;\n",
       "        });\n",
       "        }\n",
       "        </script>\n",
       "        "
      ]
     },
     "metadata": {},
     "output_type": "display_data"
    }
   ],
   "source": [
    "# Import dependencies\n",
    "import pandas as pd\n",
    "import numpy as np\n",
    "import matplotlib.pyplot as plt\n",
    "import seaborn as sns\n",
    "import missingno as msng\n",
    "import plotly.graph_objects as go\n",
    "import plotly.express as px\n",
    "\n",
    "import folium\n",
    "from folium.plugins import HeatMap\n",
    "from plotly.offline import init_notebook_mode, iplot\n",
    "init_notebook_mode(connected=True)\n",
    "\n",
    "import gmaps\n",
    "# Import the API key.\n",
    "from config import g_key\n",
    "\n",
    "# Configure gmaps to use your Google API key.\n",
    "gmaps.configure(api_key=g_key)"
   ]
  },
  {
   "cell_type": "markdown",
   "id": "7a10aa0f",
   "metadata": {},
   "source": [
    "# Extract: Reading the Data"
   ]
  },
  {
   "cell_type": "code",
   "execution_count": 3,
   "id": "178467a3",
   "metadata": {},
   "outputs": [],
   "source": [
    "# Read your CSV file\n",
    "file_to_load = '../dataset/vehicles.csv'"
   ]
  },
  {
   "cell_type": "code",
   "execution_count": 4,
   "id": "8dcf387a",
   "metadata": {},
   "outputs": [
    {
     "data": {
      "text/html": [
       "<div>\n",
       "<style scoped>\n",
       "    .dataframe tbody tr th:only-of-type {\n",
       "        vertical-align: middle;\n",
       "    }\n",
       "\n",
       "    .dataframe tbody tr th {\n",
       "        vertical-align: top;\n",
       "    }\n",
       "\n",
       "    .dataframe thead th {\n",
       "        text-align: right;\n",
       "    }\n",
       "</style>\n",
       "<table border=\"1\" class=\"dataframe\">\n",
       "  <thead>\n",
       "    <tr style=\"text-align: right;\">\n",
       "      <th></th>\n",
       "      <th>id</th>\n",
       "      <th>url</th>\n",
       "      <th>region</th>\n",
       "      <th>region_url</th>\n",
       "      <th>price</th>\n",
       "      <th>year</th>\n",
       "      <th>manufacturer</th>\n",
       "      <th>model</th>\n",
       "      <th>condition</th>\n",
       "      <th>cylinders</th>\n",
       "      <th>...</th>\n",
       "      <th>size</th>\n",
       "      <th>type</th>\n",
       "      <th>paint_color</th>\n",
       "      <th>image_url</th>\n",
       "      <th>description</th>\n",
       "      <th>county</th>\n",
       "      <th>state</th>\n",
       "      <th>lat</th>\n",
       "      <th>long</th>\n",
       "      <th>posting_date</th>\n",
       "    </tr>\n",
       "  </thead>\n",
       "  <tbody>\n",
       "    <tr>\n",
       "      <th>0</th>\n",
       "      <td>7222695916</td>\n",
       "      <td>https://prescott.craigslist.org/cto/d/prescott...</td>\n",
       "      <td>prescott</td>\n",
       "      <td>https://prescott.craigslist.org</td>\n",
       "      <td>6000</td>\n",
       "      <td>NaN</td>\n",
       "      <td>NaN</td>\n",
       "      <td>NaN</td>\n",
       "      <td>NaN</td>\n",
       "      <td>NaN</td>\n",
       "      <td>...</td>\n",
       "      <td>NaN</td>\n",
       "      <td>NaN</td>\n",
       "      <td>NaN</td>\n",
       "      <td>NaN</td>\n",
       "      <td>NaN</td>\n",
       "      <td>NaN</td>\n",
       "      <td>az</td>\n",
       "      <td>NaN</td>\n",
       "      <td>NaN</td>\n",
       "      <td>NaN</td>\n",
       "    </tr>\n",
       "    <tr>\n",
       "      <th>1</th>\n",
       "      <td>7218891961</td>\n",
       "      <td>https://fayar.craigslist.org/ctd/d/bentonville...</td>\n",
       "      <td>fayetteville</td>\n",
       "      <td>https://fayar.craigslist.org</td>\n",
       "      <td>11900</td>\n",
       "      <td>NaN</td>\n",
       "      <td>NaN</td>\n",
       "      <td>NaN</td>\n",
       "      <td>NaN</td>\n",
       "      <td>NaN</td>\n",
       "      <td>...</td>\n",
       "      <td>NaN</td>\n",
       "      <td>NaN</td>\n",
       "      <td>NaN</td>\n",
       "      <td>NaN</td>\n",
       "      <td>NaN</td>\n",
       "      <td>NaN</td>\n",
       "      <td>ar</td>\n",
       "      <td>NaN</td>\n",
       "      <td>NaN</td>\n",
       "      <td>NaN</td>\n",
       "    </tr>\n",
       "    <tr>\n",
       "      <th>2</th>\n",
       "      <td>7221797935</td>\n",
       "      <td>https://keys.craigslist.org/cto/d/summerland-k...</td>\n",
       "      <td>florida keys</td>\n",
       "      <td>https://keys.craigslist.org</td>\n",
       "      <td>21000</td>\n",
       "      <td>NaN</td>\n",
       "      <td>NaN</td>\n",
       "      <td>NaN</td>\n",
       "      <td>NaN</td>\n",
       "      <td>NaN</td>\n",
       "      <td>...</td>\n",
       "      <td>NaN</td>\n",
       "      <td>NaN</td>\n",
       "      <td>NaN</td>\n",
       "      <td>NaN</td>\n",
       "      <td>NaN</td>\n",
       "      <td>NaN</td>\n",
       "      <td>fl</td>\n",
       "      <td>NaN</td>\n",
       "      <td>NaN</td>\n",
       "      <td>NaN</td>\n",
       "    </tr>\n",
       "    <tr>\n",
       "      <th>3</th>\n",
       "      <td>7222270760</td>\n",
       "      <td>https://worcester.craigslist.org/cto/d/west-br...</td>\n",
       "      <td>worcester / central MA</td>\n",
       "      <td>https://worcester.craigslist.org</td>\n",
       "      <td>1500</td>\n",
       "      <td>NaN</td>\n",
       "      <td>NaN</td>\n",
       "      <td>NaN</td>\n",
       "      <td>NaN</td>\n",
       "      <td>NaN</td>\n",
       "      <td>...</td>\n",
       "      <td>NaN</td>\n",
       "      <td>NaN</td>\n",
       "      <td>NaN</td>\n",
       "      <td>NaN</td>\n",
       "      <td>NaN</td>\n",
       "      <td>NaN</td>\n",
       "      <td>ma</td>\n",
       "      <td>NaN</td>\n",
       "      <td>NaN</td>\n",
       "      <td>NaN</td>\n",
       "    </tr>\n",
       "    <tr>\n",
       "      <th>4</th>\n",
       "      <td>7210384030</td>\n",
       "      <td>https://greensboro.craigslist.org/cto/d/trinit...</td>\n",
       "      <td>greensboro</td>\n",
       "      <td>https://greensboro.craigslist.org</td>\n",
       "      <td>4900</td>\n",
       "      <td>NaN</td>\n",
       "      <td>NaN</td>\n",
       "      <td>NaN</td>\n",
       "      <td>NaN</td>\n",
       "      <td>NaN</td>\n",
       "      <td>...</td>\n",
       "      <td>NaN</td>\n",
       "      <td>NaN</td>\n",
       "      <td>NaN</td>\n",
       "      <td>NaN</td>\n",
       "      <td>NaN</td>\n",
       "      <td>NaN</td>\n",
       "      <td>nc</td>\n",
       "      <td>NaN</td>\n",
       "      <td>NaN</td>\n",
       "      <td>NaN</td>\n",
       "    </tr>\n",
       "  </tbody>\n",
       "</table>\n",
       "<p>5 rows × 26 columns</p>\n",
       "</div>"
      ],
      "text/plain": [
       "           id                                                url  \\\n",
       "0  7222695916  https://prescott.craigslist.org/cto/d/prescott...   \n",
       "1  7218891961  https://fayar.craigslist.org/ctd/d/bentonville...   \n",
       "2  7221797935  https://keys.craigslist.org/cto/d/summerland-k...   \n",
       "3  7222270760  https://worcester.craigslist.org/cto/d/west-br...   \n",
       "4  7210384030  https://greensboro.craigslist.org/cto/d/trinit...   \n",
       "\n",
       "                   region                         region_url  price  year  \\\n",
       "0                prescott    https://prescott.craigslist.org   6000   NaN   \n",
       "1            fayetteville       https://fayar.craigslist.org  11900   NaN   \n",
       "2            florida keys        https://keys.craigslist.org  21000   NaN   \n",
       "3  worcester / central MA   https://worcester.craigslist.org   1500   NaN   \n",
       "4              greensboro  https://greensboro.craigslist.org   4900   NaN   \n",
       "\n",
       "  manufacturer model condition cylinders  ... size  type paint_color  \\\n",
       "0          NaN   NaN       NaN       NaN  ...  NaN   NaN         NaN   \n",
       "1          NaN   NaN       NaN       NaN  ...  NaN   NaN         NaN   \n",
       "2          NaN   NaN       NaN       NaN  ...  NaN   NaN         NaN   \n",
       "3          NaN   NaN       NaN       NaN  ...  NaN   NaN         NaN   \n",
       "4          NaN   NaN       NaN       NaN  ...  NaN   NaN         NaN   \n",
       "\n",
       "  image_url description county state lat long posting_date  \n",
       "0       NaN         NaN    NaN    az NaN  NaN          NaN  \n",
       "1       NaN         NaN    NaN    ar NaN  NaN          NaN  \n",
       "2       NaN         NaN    NaN    fl NaN  NaN          NaN  \n",
       "3       NaN         NaN    NaN    ma NaN  NaN          NaN  \n",
       "4       NaN         NaN    NaN    nc NaN  NaN          NaN  \n",
       "\n",
       "[5 rows x 26 columns]"
      ]
     },
     "execution_count": 4,
     "metadata": {},
     "output_type": "execute_result"
    }
   ],
   "source": [
    "# Convert the file into a pandas DataFrame and analyze the first 5 values\n",
    "used_cars = pd.read_csv(file_to_load)\n",
    "used_cars.head()"
   ]
  },
  {
   "cell_type": "code",
   "execution_count": 5,
   "id": "fc641385",
   "metadata": {},
   "outputs": [
    {
     "data": {
      "text/html": [
       "<div>\n",
       "<style scoped>\n",
       "    .dataframe tbody tr th:only-of-type {\n",
       "        vertical-align: middle;\n",
       "    }\n",
       "\n",
       "    .dataframe tbody tr th {\n",
       "        vertical-align: top;\n",
       "    }\n",
       "\n",
       "    .dataframe thead th {\n",
       "        text-align: right;\n",
       "    }\n",
       "</style>\n",
       "<table border=\"1\" class=\"dataframe\">\n",
       "  <thead>\n",
       "    <tr style=\"text-align: right;\">\n",
       "      <th></th>\n",
       "      <th>id</th>\n",
       "      <th>url</th>\n",
       "      <th>region</th>\n",
       "      <th>region_url</th>\n",
       "      <th>price</th>\n",
       "      <th>year</th>\n",
       "      <th>manufacturer</th>\n",
       "      <th>model</th>\n",
       "      <th>condition</th>\n",
       "      <th>cylinders</th>\n",
       "      <th>...</th>\n",
       "      <th>size</th>\n",
       "      <th>type</th>\n",
       "      <th>paint_color</th>\n",
       "      <th>image_url</th>\n",
       "      <th>description</th>\n",
       "      <th>county</th>\n",
       "      <th>state</th>\n",
       "      <th>lat</th>\n",
       "      <th>long</th>\n",
       "      <th>posting_date</th>\n",
       "    </tr>\n",
       "  </thead>\n",
       "  <tbody>\n",
       "    <tr>\n",
       "      <th>426875</th>\n",
       "      <td>7301591192</td>\n",
       "      <td>https://wyoming.craigslist.org/ctd/d/atlanta-2...</td>\n",
       "      <td>wyoming</td>\n",
       "      <td>https://wyoming.craigslist.org</td>\n",
       "      <td>23590</td>\n",
       "      <td>2019.0</td>\n",
       "      <td>nissan</td>\n",
       "      <td>maxima s sedan 4d</td>\n",
       "      <td>good</td>\n",
       "      <td>6 cylinders</td>\n",
       "      <td>...</td>\n",
       "      <td>NaN</td>\n",
       "      <td>sedan</td>\n",
       "      <td>NaN</td>\n",
       "      <td>https://images.craigslist.org/00o0o_iiraFnHg8q...</td>\n",
       "      <td>Carvana is the safer way to buy a car During t...</td>\n",
       "      <td>NaN</td>\n",
       "      <td>wy</td>\n",
       "      <td>33.786500</td>\n",
       "      <td>-84.445400</td>\n",
       "      <td>2021-04-04T03:21:31-0600</td>\n",
       "    </tr>\n",
       "    <tr>\n",
       "      <th>426876</th>\n",
       "      <td>7301591187</td>\n",
       "      <td>https://wyoming.craigslist.org/ctd/d/atlanta-2...</td>\n",
       "      <td>wyoming</td>\n",
       "      <td>https://wyoming.craigslist.org</td>\n",
       "      <td>30590</td>\n",
       "      <td>2020.0</td>\n",
       "      <td>volvo</td>\n",
       "      <td>s60 t5 momentum sedan 4d</td>\n",
       "      <td>good</td>\n",
       "      <td>NaN</td>\n",
       "      <td>...</td>\n",
       "      <td>NaN</td>\n",
       "      <td>sedan</td>\n",
       "      <td>red</td>\n",
       "      <td>https://images.craigslist.org/00x0x_15sbgnxCIS...</td>\n",
       "      <td>Carvana is the safer way to buy a car During t...</td>\n",
       "      <td>NaN</td>\n",
       "      <td>wy</td>\n",
       "      <td>33.786500</td>\n",
       "      <td>-84.445400</td>\n",
       "      <td>2021-04-04T03:21:29-0600</td>\n",
       "    </tr>\n",
       "    <tr>\n",
       "      <th>426877</th>\n",
       "      <td>7301591147</td>\n",
       "      <td>https://wyoming.craigslist.org/ctd/d/atlanta-2...</td>\n",
       "      <td>wyoming</td>\n",
       "      <td>https://wyoming.craigslist.org</td>\n",
       "      <td>34990</td>\n",
       "      <td>2020.0</td>\n",
       "      <td>cadillac</td>\n",
       "      <td>xt4 sport suv 4d</td>\n",
       "      <td>good</td>\n",
       "      <td>NaN</td>\n",
       "      <td>...</td>\n",
       "      <td>NaN</td>\n",
       "      <td>hatchback</td>\n",
       "      <td>white</td>\n",
       "      <td>https://images.craigslist.org/00L0L_farM7bxnxR...</td>\n",
       "      <td>Carvana is the safer way to buy a car During t...</td>\n",
       "      <td>NaN</td>\n",
       "      <td>wy</td>\n",
       "      <td>33.779214</td>\n",
       "      <td>-84.411811</td>\n",
       "      <td>2021-04-04T03:21:17-0600</td>\n",
       "    </tr>\n",
       "    <tr>\n",
       "      <th>426878</th>\n",
       "      <td>7301591140</td>\n",
       "      <td>https://wyoming.craigslist.org/ctd/d/atlanta-2...</td>\n",
       "      <td>wyoming</td>\n",
       "      <td>https://wyoming.craigslist.org</td>\n",
       "      <td>28990</td>\n",
       "      <td>2018.0</td>\n",
       "      <td>lexus</td>\n",
       "      <td>es 350 sedan 4d</td>\n",
       "      <td>good</td>\n",
       "      <td>6 cylinders</td>\n",
       "      <td>...</td>\n",
       "      <td>NaN</td>\n",
       "      <td>sedan</td>\n",
       "      <td>silver</td>\n",
       "      <td>https://images.craigslist.org/00z0z_bKnIVGLkDT...</td>\n",
       "      <td>Carvana is the safer way to buy a car During t...</td>\n",
       "      <td>NaN</td>\n",
       "      <td>wy</td>\n",
       "      <td>33.786500</td>\n",
       "      <td>-84.445400</td>\n",
       "      <td>2021-04-04T03:21:11-0600</td>\n",
       "    </tr>\n",
       "    <tr>\n",
       "      <th>426879</th>\n",
       "      <td>7301591129</td>\n",
       "      <td>https://wyoming.craigslist.org/ctd/d/atlanta-2...</td>\n",
       "      <td>wyoming</td>\n",
       "      <td>https://wyoming.craigslist.org</td>\n",
       "      <td>30590</td>\n",
       "      <td>2019.0</td>\n",
       "      <td>bmw</td>\n",
       "      <td>4 series 430i gran coupe</td>\n",
       "      <td>good</td>\n",
       "      <td>NaN</td>\n",
       "      <td>...</td>\n",
       "      <td>NaN</td>\n",
       "      <td>coupe</td>\n",
       "      <td>NaN</td>\n",
       "      <td>https://images.craigslist.org/00Y0Y_lEUocjyRxa...</td>\n",
       "      <td>Carvana is the safer way to buy a car During t...</td>\n",
       "      <td>NaN</td>\n",
       "      <td>wy</td>\n",
       "      <td>33.779214</td>\n",
       "      <td>-84.411811</td>\n",
       "      <td>2021-04-04T03:21:07-0600</td>\n",
       "    </tr>\n",
       "  </tbody>\n",
       "</table>\n",
       "<p>5 rows × 26 columns</p>\n",
       "</div>"
      ],
      "text/plain": [
       "                id                                                url  \\\n",
       "426875  7301591192  https://wyoming.craigslist.org/ctd/d/atlanta-2...   \n",
       "426876  7301591187  https://wyoming.craigslist.org/ctd/d/atlanta-2...   \n",
       "426877  7301591147  https://wyoming.craigslist.org/ctd/d/atlanta-2...   \n",
       "426878  7301591140  https://wyoming.craigslist.org/ctd/d/atlanta-2...   \n",
       "426879  7301591129  https://wyoming.craigslist.org/ctd/d/atlanta-2...   \n",
       "\n",
       "         region                      region_url  price    year manufacturer  \\\n",
       "426875  wyoming  https://wyoming.craigslist.org  23590  2019.0       nissan   \n",
       "426876  wyoming  https://wyoming.craigslist.org  30590  2020.0        volvo   \n",
       "426877  wyoming  https://wyoming.craigslist.org  34990  2020.0     cadillac   \n",
       "426878  wyoming  https://wyoming.craigslist.org  28990  2018.0        lexus   \n",
       "426879  wyoming  https://wyoming.craigslist.org  30590  2019.0          bmw   \n",
       "\n",
       "                           model condition    cylinders  ... size       type  \\\n",
       "426875         maxima s sedan 4d      good  6 cylinders  ...  NaN      sedan   \n",
       "426876  s60 t5 momentum sedan 4d      good          NaN  ...  NaN      sedan   \n",
       "426877          xt4 sport suv 4d      good          NaN  ...  NaN  hatchback   \n",
       "426878           es 350 sedan 4d      good  6 cylinders  ...  NaN      sedan   \n",
       "426879  4 series 430i gran coupe      good          NaN  ...  NaN      coupe   \n",
       "\n",
       "       paint_color                                          image_url  \\\n",
       "426875         NaN  https://images.craigslist.org/00o0o_iiraFnHg8q...   \n",
       "426876         red  https://images.craigslist.org/00x0x_15sbgnxCIS...   \n",
       "426877       white  https://images.craigslist.org/00L0L_farM7bxnxR...   \n",
       "426878      silver  https://images.craigslist.org/00z0z_bKnIVGLkDT...   \n",
       "426879         NaN  https://images.craigslist.org/00Y0Y_lEUocjyRxa...   \n",
       "\n",
       "                                              description county state  \\\n",
       "426875  Carvana is the safer way to buy a car During t...    NaN    wy   \n",
       "426876  Carvana is the safer way to buy a car During t...    NaN    wy   \n",
       "426877  Carvana is the safer way to buy a car During t...    NaN    wy   \n",
       "426878  Carvana is the safer way to buy a car During t...    NaN    wy   \n",
       "426879  Carvana is the safer way to buy a car During t...    NaN    wy   \n",
       "\n",
       "              lat       long              posting_date  \n",
       "426875  33.786500 -84.445400  2021-04-04T03:21:31-0600  \n",
       "426876  33.786500 -84.445400  2021-04-04T03:21:29-0600  \n",
       "426877  33.779214 -84.411811  2021-04-04T03:21:17-0600  \n",
       "426878  33.786500 -84.445400  2021-04-04T03:21:11-0600  \n",
       "426879  33.779214 -84.411811  2021-04-04T03:21:07-0600  \n",
       "\n",
       "[5 rows x 26 columns]"
      ]
     },
     "execution_count": 5,
     "metadata": {},
     "output_type": "execute_result"
    }
   ],
   "source": [
    "# Analyze the last 5 values\n",
    "used_cars.tail()"
   ]
  },
  {
   "cell_type": "code",
   "execution_count": 6,
   "id": "0b937ae8",
   "metadata": {},
   "outputs": [
    {
     "data": {
      "text/plain": [
       "Index(['id', 'url', 'region', 'region_url', 'price', 'year', 'manufacturer',\n",
       "       'model', 'condition', 'cylinders', 'fuel', 'odometer', 'title_status',\n",
       "       'transmission', 'VIN', 'drive', 'size', 'type', 'paint_color',\n",
       "       'image_url', 'description', 'county', 'state', 'lat', 'long',\n",
       "       'posting_date'],\n",
       "      dtype='object')"
      ]
     },
     "execution_count": 6,
     "metadata": {},
     "output_type": "execute_result"
    }
   ],
   "source": [
    "used_cars.columns"
   ]
  },
  {
   "cell_type": "code",
   "execution_count": 7,
   "id": "8488da90",
   "metadata": {
    "scrolled": true
   },
   "outputs": [
    {
     "data": {
      "text/plain": [
       "<AxesSubplot:>"
      ]
     },
     "execution_count": 7,
     "metadata": {},
     "output_type": "execute_result"
    },
    {
     "data": {
      "image/png": "[encoded data removed]",
      "text/plain": [
       "<Figure size 1800x720 with 2 Axes>"
      ]
     },
     "metadata": {
      "needs_background": "light"
     },
     "output_type": "display_data"
    }
   ],
   "source": [
    "msng.matrix(used_cars)"
   ]
  },
  {
   "cell_type": "markdown",
   "id": "a6aa1c7a",
   "metadata": {},
   "source": [
    "Visualizing the dataset this way we can make multiple observations for our **Transform** step:\n",
    "1. The clearest one would be that the first step is dropping the \"county\" column given that it doesn't have any data, therefore doesn't provide any value.\n",
    "2. The next columns that we need to explore considering data quality are:\n",
    "    - condition\n",
    "    - cylinders\n",
    "    - VIN\n",
    "    - size\n",
    "3. We can keep the id column, not for Data Analysis purposes, but to be able to, in case is neccesary, locate a vehicle we would like to inspect into detail and this way, we are going to be able to drop unneccesary columns for the analysis:\n",
    "    - url\n",
    "    - region_url\n",
    "    - image_url\n",
    "    - description\n",
    "    - VIN"
   ]
  },
  {
   "cell_type": "markdown",
   "id": "4a9aae8b",
   "metadata": {},
   "source": [
    "# Transform: Data Cleaning"
   ]
  },
  {
   "cell_type": "markdown",
   "id": "680e119b",
   "metadata": {},
   "source": [
    "First, let's take care of the columns that serve no purpose for our analysis:"
   ]
  },
  {
   "cell_type": "code",
   "execution_count": 8,
   "id": "40509801",
   "metadata": {},
   "outputs": [],
   "source": [
    "used_cars_df = used_cars.drop(columns = ['url', 'region_url', 'image_url', 'VIN', 'county', 'size', 'description'])"
   ]
  },
  {
   "cell_type": "markdown",
   "id": "3250c759",
   "metadata": {},
   "source": [
    "Now, to consolidate our data further, the main variables that we want to analyze with NaNs are:\n",
    "- Year\n",
    "- Condition\n",
    "- Model\n",
    "- Manufacturer\n",
    "\n",
    "Therefore, for data cleaning, the strategy chosen is to drop any null values within those columns."
   ]
  },
  {
   "cell_type": "code",
   "execution_count": 9,
   "id": "578b8203",
   "metadata": {},
   "outputs": [],
   "source": [
    "used_cars_df_nonull = used_cars_df.dropna(subset = ['year', 'condition', 'model', 'manufacturer'])"
   ]
  },
  {
   "cell_type": "markdown",
   "id": "fafed980",
   "metadata": {},
   "source": [
    "Exploring our data once more, we now see that our DataFrame has way fewer missing points thay could affect our statistics, correlations and metrics."
   ]
  },
  {
   "cell_type": "code",
   "execution_count": 10,
   "id": "223baad8",
   "metadata": {},
   "outputs": [
    {
     "data": {
      "text/plain": [
       "<AxesSubplot:>"
      ]
     },
     "execution_count": 10,
     "metadata": {},
     "output_type": "execute_result"
    },
    {
     "data": {
      "image/png": "[encoded data removed]",
      "text/plain": [
       "<Figure size 1800x720 with 2 Axes>"
      ]
     },
     "metadata": {
      "needs_background": "light"
     },
     "output_type": "display_data"
    }
   ],
   "source": [
    "msng.matrix(used_cars_df_nonull)"
   ]
  },
  {
   "cell_type": "code",
   "execution_count": 11,
   "id": "97fe276a",
   "metadata": {},
   "outputs": [
    {
     "data": {
      "text/html": [
       "<div>\n",
       "<style scoped>\n",
       "    .dataframe tbody tr th:only-of-type {\n",
       "        vertical-align: middle;\n",
       "    }\n",
       "\n",
       "    .dataframe tbody tr th {\n",
       "        vertical-align: top;\n",
       "    }\n",
       "\n",
       "    .dataframe thead th {\n",
       "        text-align: right;\n",
       "    }\n",
       "</style>\n",
       "<table border=\"1\" class=\"dataframe\">\n",
       "  <thead>\n",
       "    <tr style=\"text-align: right;\">\n",
       "      <th></th>\n",
       "      <th>id</th>\n",
       "      <th>region</th>\n",
       "      <th>price</th>\n",
       "      <th>year</th>\n",
       "      <th>manufacturer</th>\n",
       "      <th>model</th>\n",
       "      <th>condition</th>\n",
       "      <th>cylinders</th>\n",
       "      <th>fuel</th>\n",
       "      <th>odometer</th>\n",
       "      <th>title_status</th>\n",
       "      <th>transmission</th>\n",
       "      <th>drive</th>\n",
       "      <th>type</th>\n",
       "      <th>paint_color</th>\n",
       "      <th>state</th>\n",
       "      <th>lat</th>\n",
       "      <th>long</th>\n",
       "      <th>posting_date</th>\n",
       "    </tr>\n",
       "  </thead>\n",
       "  <tbody>\n",
       "    <tr>\n",
       "      <th>27</th>\n",
       "      <td>7316814884</td>\n",
       "      <td>auburn</td>\n",
       "      <td>33590</td>\n",
       "      <td>2014.0</td>\n",
       "      <td>gmc</td>\n",
       "      <td>sierra 1500 crew cab slt</td>\n",
       "      <td>good</td>\n",
       "      <td>8 cylinders</td>\n",
       "      <td>gas</td>\n",
       "      <td>57923.0</td>\n",
       "      <td>clean</td>\n",
       "      <td>other</td>\n",
       "      <td>NaN</td>\n",
       "      <td>pickup</td>\n",
       "      <td>white</td>\n",
       "      <td>al</td>\n",
       "      <td>32.590</td>\n",
       "      <td>-85.4800</td>\n",
       "      <td>2021-05-04T12:31:18-0500</td>\n",
       "    </tr>\n",
       "    <tr>\n",
       "      <th>28</th>\n",
       "      <td>7316814758</td>\n",
       "      <td>auburn</td>\n",
       "      <td>22590</td>\n",
       "      <td>2010.0</td>\n",
       "      <td>chevrolet</td>\n",
       "      <td>silverado 1500</td>\n",
       "      <td>good</td>\n",
       "      <td>8 cylinders</td>\n",
       "      <td>gas</td>\n",
       "      <td>71229.0</td>\n",
       "      <td>clean</td>\n",
       "      <td>other</td>\n",
       "      <td>NaN</td>\n",
       "      <td>pickup</td>\n",
       "      <td>blue</td>\n",
       "      <td>al</td>\n",
       "      <td>32.590</td>\n",
       "      <td>-85.4800</td>\n",
       "      <td>2021-05-04T12:31:08-0500</td>\n",
       "    </tr>\n",
       "    <tr>\n",
       "      <th>29</th>\n",
       "      <td>7316814989</td>\n",
       "      <td>auburn</td>\n",
       "      <td>39590</td>\n",
       "      <td>2020.0</td>\n",
       "      <td>chevrolet</td>\n",
       "      <td>silverado 1500 crew</td>\n",
       "      <td>good</td>\n",
       "      <td>8 cylinders</td>\n",
       "      <td>gas</td>\n",
       "      <td>19160.0</td>\n",
       "      <td>clean</td>\n",
       "      <td>other</td>\n",
       "      <td>NaN</td>\n",
       "      <td>pickup</td>\n",
       "      <td>red</td>\n",
       "      <td>al</td>\n",
       "      <td>32.590</td>\n",
       "      <td>-85.4800</td>\n",
       "      <td>2021-05-04T12:31:25-0500</td>\n",
       "    </tr>\n",
       "    <tr>\n",
       "      <th>30</th>\n",
       "      <td>7316743432</td>\n",
       "      <td>auburn</td>\n",
       "      <td>30990</td>\n",
       "      <td>2017.0</td>\n",
       "      <td>toyota</td>\n",
       "      <td>tundra double cab sr</td>\n",
       "      <td>good</td>\n",
       "      <td>8 cylinders</td>\n",
       "      <td>gas</td>\n",
       "      <td>41124.0</td>\n",
       "      <td>clean</td>\n",
       "      <td>other</td>\n",
       "      <td>NaN</td>\n",
       "      <td>pickup</td>\n",
       "      <td>red</td>\n",
       "      <td>al</td>\n",
       "      <td>32.590</td>\n",
       "      <td>-85.4800</td>\n",
       "      <td>2021-05-04T10:41:31-0500</td>\n",
       "    </tr>\n",
       "    <tr>\n",
       "      <th>31</th>\n",
       "      <td>7316356412</td>\n",
       "      <td>auburn</td>\n",
       "      <td>15000</td>\n",
       "      <td>2013.0</td>\n",
       "      <td>ford</td>\n",
       "      <td>f-150 xlt</td>\n",
       "      <td>excellent</td>\n",
       "      <td>6 cylinders</td>\n",
       "      <td>gas</td>\n",
       "      <td>128000.0</td>\n",
       "      <td>clean</td>\n",
       "      <td>automatic</td>\n",
       "      <td>rwd</td>\n",
       "      <td>truck</td>\n",
       "      <td>black</td>\n",
       "      <td>al</td>\n",
       "      <td>32.592</td>\n",
       "      <td>-85.5189</td>\n",
       "      <td>2021-05-03T14:02:03-0500</td>\n",
       "    </tr>\n",
       "  </tbody>\n",
       "</table>\n",
       "</div>"
      ],
      "text/plain": [
       "            id  region  price    year manufacturer                     model  \\\n",
       "27  7316814884  auburn  33590  2014.0          gmc  sierra 1500 crew cab slt   \n",
       "28  7316814758  auburn  22590  2010.0    chevrolet            silverado 1500   \n",
       "29  7316814989  auburn  39590  2020.0    chevrolet       silverado 1500 crew   \n",
       "30  7316743432  auburn  30990  2017.0       toyota      tundra double cab sr   \n",
       "31  7316356412  auburn  15000  2013.0         ford                 f-150 xlt   \n",
       "\n",
       "    condition    cylinders fuel  odometer title_status transmission drive  \\\n",
       "27       good  8 cylinders  gas   57923.0        clean        other   NaN   \n",
       "28       good  8 cylinders  gas   71229.0        clean        other   NaN   \n",
       "29       good  8 cylinders  gas   19160.0        clean        other   NaN   \n",
       "30       good  8 cylinders  gas   41124.0        clean        other   NaN   \n",
       "31  excellent  6 cylinders  gas  128000.0        clean    automatic   rwd   \n",
       "\n",
       "      type paint_color state     lat     long              posting_date  \n",
       "27  pickup       white    al  32.590 -85.4800  2021-05-04T12:31:18-0500  \n",
       "28  pickup        blue    al  32.590 -85.4800  2021-05-04T12:31:08-0500  \n",
       "29  pickup         red    al  32.590 -85.4800  2021-05-04T12:31:25-0500  \n",
       "30  pickup         red    al  32.590 -85.4800  2021-05-04T10:41:31-0500  \n",
       "31   truck       black    al  32.592 -85.5189  2021-05-03T14:02:03-0500  "
      ]
     },
     "execution_count": 11,
     "metadata": {},
     "output_type": "execute_result"
    }
   ],
   "source": [
    "used_cars_df_nonull.head()"
   ]
  },
  {
   "cell_type": "markdown",
   "id": "2faccc9c",
   "metadata": {},
   "source": [
    "Now, for manufacturers, we need to confirm that there are no similar names that are not grouped correctly."
   ]
  },
  {
   "cell_type": "code",
   "execution_count": 12,
   "id": "92f512fd",
   "metadata": {
    "scrolled": true
   },
   "outputs": [
    {
     "data": {
      "text/plain": [
       "ford               37467\n",
       "chevrolet          32148\n",
       "toyota             20490\n",
       "honda              12841\n",
       "nissan             11020\n",
       "jeep               10442\n",
       "gmc                 9373\n",
       "bmw                 9146\n",
       "ram                 7994\n",
       "dodge               7563\n",
       "mercedes-benz       6685\n",
       "volkswagen          6241\n",
       "hyundai             6009\n",
       "subaru              5536\n",
       "lexus               5289\n",
       "audi                5231\n",
       "kia                 4928\n",
       "cadillac            4490\n",
       "acura               4479\n",
       "chrysler            3643\n",
       "buick               3633\n",
       "mazda               3603\n",
       "infiniti            3543\n",
       "lincoln             3047\n",
       "volvo               2459\n",
       "mitsubishi          2321\n",
       "mini                1594\n",
       "jaguar              1550\n",
       "pontiac             1468\n",
       "rover               1049\n",
       "mercury              824\n",
       "alfa-romeo           751\n",
       "porsche              728\n",
       "saturn               686\n",
       "tesla                667\n",
       "fiat                 564\n",
       "harley-davidson       74\n",
       "ferrari               40\n",
       "datsun                40\n",
       "aston-martin          12\n",
       "land rover            10\n",
       "Name: manufacturer, dtype: int64"
      ]
     },
     "execution_count": 12,
     "metadata": {},
     "output_type": "execute_result"
    }
   ],
   "source": [
    "used_cars_df_nonull['manufacturer'].value_counts()"
   ]
  },
  {
   "cell_type": "markdown",
   "id": "1798c482",
   "metadata": {},
   "source": [
    "After having a clean DataFrame, we then have to remove the outliers using the standard deviation method defining a function to avoid repetition."
   ]
  },
  {
   "cell_type": "code",
   "execution_count": 13,
   "id": "97cc2162",
   "metadata": {},
   "outputs": [],
   "source": [
    "def remove_outliers(df,columns,n_std):\n",
    "    for col in columns:\n",
    "        print('Working on column: {}'.format(col))\n",
    "        \n",
    "        mean = df[col].mean()\n",
    "        sd = df[col].std()\n",
    "        \n",
    "        df = df[(df[col] <= mean+(n_std*sd))]\n",
    "        \n",
    "    return df"
   ]
  },
  {
   "cell_type": "code",
   "execution_count": 14,
   "id": "64160feb",
   "metadata": {},
   "outputs": [],
   "source": [
    "columns = {'price', 'year', 'odometer'}"
   ]
  },
  {
   "cell_type": "code",
   "execution_count": 15,
   "id": "6f940f3f",
   "metadata": {
    "scrolled": true
   },
   "outputs": [
    {
     "name": "stdout",
     "output_type": "stream",
     "text": [
      "Working on column: price\n",
      "Working on column: odometer\n",
      "Working on column: year\n"
     ]
    },
    {
     "data": {
      "text/html": [
       "<div>\n",
       "<style scoped>\n",
       "    .dataframe tbody tr th:only-of-type {\n",
       "        vertical-align: middle;\n",
       "    }\n",
       "\n",
       "    .dataframe tbody tr th {\n",
       "        vertical-align: top;\n",
       "    }\n",
       "\n",
       "    .dataframe thead th {\n",
       "        text-align: right;\n",
       "    }\n",
       "</style>\n",
       "<table border=\"1\" class=\"dataframe\">\n",
       "  <thead>\n",
       "    <tr style=\"text-align: right;\">\n",
       "      <th></th>\n",
       "      <th>id</th>\n",
       "      <th>region</th>\n",
       "      <th>price</th>\n",
       "      <th>year</th>\n",
       "      <th>manufacturer</th>\n",
       "      <th>model</th>\n",
       "      <th>condition</th>\n",
       "      <th>cylinders</th>\n",
       "      <th>fuel</th>\n",
       "      <th>odometer</th>\n",
       "      <th>title_status</th>\n",
       "      <th>transmission</th>\n",
       "      <th>drive</th>\n",
       "      <th>type</th>\n",
       "      <th>paint_color</th>\n",
       "      <th>state</th>\n",
       "      <th>lat</th>\n",
       "      <th>long</th>\n",
       "      <th>posting_date</th>\n",
       "    </tr>\n",
       "  </thead>\n",
       "  <tbody>\n",
       "    <tr>\n",
       "      <th>27</th>\n",
       "      <td>7316814884</td>\n",
       "      <td>auburn</td>\n",
       "      <td>33590</td>\n",
       "      <td>2014.0</td>\n",
       "      <td>gmc</td>\n",
       "      <td>sierra 1500 crew cab slt</td>\n",
       "      <td>good</td>\n",
       "      <td>8 cylinders</td>\n",
       "      <td>gas</td>\n",
       "      <td>57923.0</td>\n",
       "      <td>clean</td>\n",
       "      <td>other</td>\n",
       "      <td>NaN</td>\n",
       "      <td>pickup</td>\n",
       "      <td>white</td>\n",
       "      <td>al</td>\n",
       "      <td>32.590000</td>\n",
       "      <td>-85.480000</td>\n",
       "      <td>2021-05-04T12:31:18-0500</td>\n",
       "    </tr>\n",
       "    <tr>\n",
       "      <th>28</th>\n",
       "      <td>7316814758</td>\n",
       "      <td>auburn</td>\n",
       "      <td>22590</td>\n",
       "      <td>2010.0</td>\n",
       "      <td>chevrolet</td>\n",
       "      <td>silverado 1500</td>\n",
       "      <td>good</td>\n",
       "      <td>8 cylinders</td>\n",
       "      <td>gas</td>\n",
       "      <td>71229.0</td>\n",
       "      <td>clean</td>\n",
       "      <td>other</td>\n",
       "      <td>NaN</td>\n",
       "      <td>pickup</td>\n",
       "      <td>blue</td>\n",
       "      <td>al</td>\n",
       "      <td>32.590000</td>\n",
       "      <td>-85.480000</td>\n",
       "      <td>2021-05-04T12:31:08-0500</td>\n",
       "    </tr>\n",
       "    <tr>\n",
       "      <th>29</th>\n",
       "      <td>7316814989</td>\n",
       "      <td>auburn</td>\n",
       "      <td>39590</td>\n",
       "      <td>2020.0</td>\n",
       "      <td>chevrolet</td>\n",
       "      <td>silverado 1500 crew</td>\n",
       "      <td>good</td>\n",
       "      <td>8 cylinders</td>\n",
       "      <td>gas</td>\n",
       "      <td>19160.0</td>\n",
       "      <td>clean</td>\n",
       "      <td>other</td>\n",
       "      <td>NaN</td>\n",
       "      <td>pickup</td>\n",
       "      <td>red</td>\n",
       "      <td>al</td>\n",
       "      <td>32.590000</td>\n",
       "      <td>-85.480000</td>\n",
       "      <td>2021-05-04T12:31:25-0500</td>\n",
       "    </tr>\n",
       "    <tr>\n",
       "      <th>30</th>\n",
       "      <td>7316743432</td>\n",
       "      <td>auburn</td>\n",
       "      <td>30990</td>\n",
       "      <td>2017.0</td>\n",
       "      <td>toyota</td>\n",
       "      <td>tundra double cab sr</td>\n",
       "      <td>good</td>\n",
       "      <td>8 cylinders</td>\n",
       "      <td>gas</td>\n",
       "      <td>41124.0</td>\n",
       "      <td>clean</td>\n",
       "      <td>other</td>\n",
       "      <td>NaN</td>\n",
       "      <td>pickup</td>\n",
       "      <td>red</td>\n",
       "      <td>al</td>\n",
       "      <td>32.590000</td>\n",
       "      <td>-85.480000</td>\n",
       "      <td>2021-05-04T10:41:31-0500</td>\n",
       "    </tr>\n",
       "    <tr>\n",
       "      <th>31</th>\n",
       "      <td>7316356412</td>\n",
       "      <td>auburn</td>\n",
       "      <td>15000</td>\n",
       "      <td>2013.0</td>\n",
       "      <td>ford</td>\n",
       "      <td>f-150 xlt</td>\n",
       "      <td>excellent</td>\n",
       "      <td>6 cylinders</td>\n",
       "      <td>gas</td>\n",
       "      <td>128000.0</td>\n",
       "      <td>clean</td>\n",
       "      <td>automatic</td>\n",
       "      <td>rwd</td>\n",
       "      <td>truck</td>\n",
       "      <td>black</td>\n",
       "      <td>al</td>\n",
       "      <td>32.592000</td>\n",
       "      <td>-85.518900</td>\n",
       "      <td>2021-05-03T14:02:03-0500</td>\n",
       "    </tr>\n",
       "    <tr>\n",
       "      <th>...</th>\n",
       "      <td>...</td>\n",
       "      <td>...</td>\n",
       "      <td>...</td>\n",
       "      <td>...</td>\n",
       "      <td>...</td>\n",
       "      <td>...</td>\n",
       "      <td>...</td>\n",
       "      <td>...</td>\n",
       "      <td>...</td>\n",
       "      <td>...</td>\n",
       "      <td>...</td>\n",
       "      <td>...</td>\n",
       "      <td>...</td>\n",
       "      <td>...</td>\n",
       "      <td>...</td>\n",
       "      <td>...</td>\n",
       "      <td>...</td>\n",
       "      <td>...</td>\n",
       "      <td>...</td>\n",
       "    </tr>\n",
       "    <tr>\n",
       "      <th>426875</th>\n",
       "      <td>7301591192</td>\n",
       "      <td>wyoming</td>\n",
       "      <td>23590</td>\n",
       "      <td>2019.0</td>\n",
       "      <td>nissan</td>\n",
       "      <td>maxima s sedan 4d</td>\n",
       "      <td>good</td>\n",
       "      <td>6 cylinders</td>\n",
       "      <td>gas</td>\n",
       "      <td>32226.0</td>\n",
       "      <td>clean</td>\n",
       "      <td>other</td>\n",
       "      <td>fwd</td>\n",
       "      <td>sedan</td>\n",
       "      <td>NaN</td>\n",
       "      <td>wy</td>\n",
       "      <td>33.786500</td>\n",
       "      <td>-84.445400</td>\n",
       "      <td>2021-04-04T03:21:31-0600</td>\n",
       "    </tr>\n",
       "    <tr>\n",
       "      <th>426876</th>\n",
       "      <td>7301591187</td>\n",
       "      <td>wyoming</td>\n",
       "      <td>30590</td>\n",
       "      <td>2020.0</td>\n",
       "      <td>volvo</td>\n",
       "      <td>s60 t5 momentum sedan 4d</td>\n",
       "      <td>good</td>\n",
       "      <td>NaN</td>\n",
       "      <td>gas</td>\n",
       "      <td>12029.0</td>\n",
       "      <td>clean</td>\n",
       "      <td>other</td>\n",
       "      <td>fwd</td>\n",
       "      <td>sedan</td>\n",
       "      <td>red</td>\n",
       "      <td>wy</td>\n",
       "      <td>33.786500</td>\n",
       "      <td>-84.445400</td>\n",
       "      <td>2021-04-04T03:21:29-0600</td>\n",
       "    </tr>\n",
       "    <tr>\n",
       "      <th>426877</th>\n",
       "      <td>7301591147</td>\n",
       "      <td>wyoming</td>\n",
       "      <td>34990</td>\n",
       "      <td>2020.0</td>\n",
       "      <td>cadillac</td>\n",
       "      <td>xt4 sport suv 4d</td>\n",
       "      <td>good</td>\n",
       "      <td>NaN</td>\n",
       "      <td>diesel</td>\n",
       "      <td>4174.0</td>\n",
       "      <td>clean</td>\n",
       "      <td>other</td>\n",
       "      <td>NaN</td>\n",
       "      <td>hatchback</td>\n",
       "      <td>white</td>\n",
       "      <td>wy</td>\n",
       "      <td>33.779214</td>\n",
       "      <td>-84.411811</td>\n",
       "      <td>2021-04-04T03:21:17-0600</td>\n",
       "    </tr>\n",
       "    <tr>\n",
       "      <th>426878</th>\n",
       "      <td>7301591140</td>\n",
       "      <td>wyoming</td>\n",
       "      <td>28990</td>\n",
       "      <td>2018.0</td>\n",
       "      <td>lexus</td>\n",
       "      <td>es 350 sedan 4d</td>\n",
       "      <td>good</td>\n",
       "      <td>6 cylinders</td>\n",
       "      <td>gas</td>\n",
       "      <td>30112.0</td>\n",
       "      <td>clean</td>\n",
       "      <td>other</td>\n",
       "      <td>fwd</td>\n",
       "      <td>sedan</td>\n",
       "      <td>silver</td>\n",
       "      <td>wy</td>\n",
       "      <td>33.786500</td>\n",
       "      <td>-84.445400</td>\n",
       "      <td>2021-04-04T03:21:11-0600</td>\n",
       "    </tr>\n",
       "    <tr>\n",
       "      <th>426879</th>\n",
       "      <td>7301591129</td>\n",
       "      <td>wyoming</td>\n",
       "      <td>30590</td>\n",
       "      <td>2019.0</td>\n",
       "      <td>bmw</td>\n",
       "      <td>4 series 430i gran coupe</td>\n",
       "      <td>good</td>\n",
       "      <td>NaN</td>\n",
       "      <td>gas</td>\n",
       "      <td>22716.0</td>\n",
       "      <td>clean</td>\n",
       "      <td>other</td>\n",
       "      <td>rwd</td>\n",
       "      <td>coupe</td>\n",
       "      <td>NaN</td>\n",
       "      <td>wy</td>\n",
       "      <td>33.779214</td>\n",
       "      <td>-84.411811</td>\n",
       "      <td>2021-04-04T03:21:07-0600</td>\n",
       "    </tr>\n",
       "  </tbody>\n",
       "</table>\n",
       "<p>237329 rows × 19 columns</p>\n",
       "</div>"
      ],
      "text/plain": [
       "                id   region  price    year manufacturer  \\\n",
       "27      7316814884   auburn  33590  2014.0          gmc   \n",
       "28      7316814758   auburn  22590  2010.0    chevrolet   \n",
       "29      7316814989   auburn  39590  2020.0    chevrolet   \n",
       "30      7316743432   auburn  30990  2017.0       toyota   \n",
       "31      7316356412   auburn  15000  2013.0         ford   \n",
       "...            ...      ...    ...     ...          ...   \n",
       "426875  7301591192  wyoming  23590  2019.0       nissan   \n",
       "426876  7301591187  wyoming  30590  2020.0        volvo   \n",
       "426877  7301591147  wyoming  34990  2020.0     cadillac   \n",
       "426878  7301591140  wyoming  28990  2018.0        lexus   \n",
       "426879  7301591129  wyoming  30590  2019.0          bmw   \n",
       "\n",
       "                           model  condition    cylinders    fuel  odometer  \\\n",
       "27      sierra 1500 crew cab slt       good  8 cylinders     gas   57923.0   \n",
       "28                silverado 1500       good  8 cylinders     gas   71229.0   \n",
       "29           silverado 1500 crew       good  8 cylinders     gas   19160.0   \n",
       "30          tundra double cab sr       good  8 cylinders     gas   41124.0   \n",
       "31                     f-150 xlt  excellent  6 cylinders     gas  128000.0   \n",
       "...                          ...        ...          ...     ...       ...   \n",
       "426875         maxima s sedan 4d       good  6 cylinders     gas   32226.0   \n",
       "426876  s60 t5 momentum sedan 4d       good          NaN     gas   12029.0   \n",
       "426877          xt4 sport suv 4d       good          NaN  diesel    4174.0   \n",
       "426878           es 350 sedan 4d       good  6 cylinders     gas   30112.0   \n",
       "426879  4 series 430i gran coupe       good          NaN     gas   22716.0   \n",
       "\n",
       "       title_status transmission drive       type paint_color state  \\\n",
       "27            clean        other   NaN     pickup       white    al   \n",
       "28            clean        other   NaN     pickup        blue    al   \n",
       "29            clean        other   NaN     pickup         red    al   \n",
       "30            clean        other   NaN     pickup         red    al   \n",
       "31            clean    automatic   rwd      truck       black    al   \n",
       "...             ...          ...   ...        ...         ...   ...   \n",
       "426875        clean        other   fwd      sedan         NaN    wy   \n",
       "426876        clean        other   fwd      sedan         red    wy   \n",
       "426877        clean        other   NaN  hatchback       white    wy   \n",
       "426878        clean        other   fwd      sedan      silver    wy   \n",
       "426879        clean        other   rwd      coupe         NaN    wy   \n",
       "\n",
       "              lat       long              posting_date  \n",
       "27      32.590000 -85.480000  2021-05-04T12:31:18-0500  \n",
       "28      32.590000 -85.480000  2021-05-04T12:31:08-0500  \n",
       "29      32.590000 -85.480000  2021-05-04T12:31:25-0500  \n",
       "30      32.590000 -85.480000  2021-05-04T10:41:31-0500  \n",
       "31      32.592000 -85.518900  2021-05-03T14:02:03-0500  \n",
       "...           ...        ...                       ...  \n",
       "426875  33.786500 -84.445400  2021-04-04T03:21:31-0600  \n",
       "426876  33.786500 -84.445400  2021-04-04T03:21:29-0600  \n",
       "426877  33.779214 -84.411811  2021-04-04T03:21:17-0600  \n",
       "426878  33.786500 -84.445400  2021-04-04T03:21:11-0600  \n",
       "426879  33.779214 -84.411811  2021-04-04T03:21:07-0600  \n",
       "\n",
       "[237329 rows x 19 columns]"
      ]
     },
     "execution_count": 15,
     "metadata": {},
     "output_type": "execute_result"
    }
   ],
   "source": [
    "remove_outliers(used_cars_df_nonull, columns, 2)"
   ]
  },
  {
   "cell_type": "markdown",
   "id": "135b933c",
   "metadata": {},
   "source": [
    "# Manufacturer Exploratory Data Analysis"
   ]
  },
  {
   "cell_type": "markdown",
   "id": "c2ca1b80",
   "metadata": {},
   "source": [
    "We are going to be analyzing our data based on different variables to visualize the distribution of our data, the most commonly sold cars by manufacturer and by model. As we previously saw the Manufacturer that are most commonly adverstised in Craigslist are:"
   ]
  },
  {
   "cell_type": "code",
   "execution_count": 16,
   "id": "6735ba57",
   "metadata": {
    "scrolled": true
   },
   "outputs": [
    {
     "data": {
      "text/html": [
       "<div>\n",
       "<style scoped>\n",
       "    .dataframe tbody tr th:only-of-type {\n",
       "        vertical-align: middle;\n",
       "    }\n",
       "\n",
       "    .dataframe tbody tr th {\n",
       "        vertical-align: top;\n",
       "    }\n",
       "\n",
       "    .dataframe thead th {\n",
       "        text-align: right;\n",
       "    }\n",
       "</style>\n",
       "<table border=\"1\" class=\"dataframe\">\n",
       "  <thead>\n",
       "    <tr style=\"text-align: right;\">\n",
       "      <th></th>\n",
       "      <th>manufacturer</th>\n",
       "    </tr>\n",
       "  </thead>\n",
       "  <tbody>\n",
       "    <tr>\n",
       "      <th>ford</th>\n",
       "      <td>37467</td>\n",
       "    </tr>\n",
       "    <tr>\n",
       "      <th>chevrolet</th>\n",
       "      <td>32148</td>\n",
       "    </tr>\n",
       "    <tr>\n",
       "      <th>toyota</th>\n",
       "      <td>20490</td>\n",
       "    </tr>\n",
       "    <tr>\n",
       "      <th>honda</th>\n",
       "      <td>12841</td>\n",
       "    </tr>\n",
       "    <tr>\n",
       "      <th>nissan</th>\n",
       "      <td>11020</td>\n",
       "    </tr>\n",
       "    <tr>\n",
       "      <th>jeep</th>\n",
       "      <td>10442</td>\n",
       "    </tr>\n",
       "    <tr>\n",
       "      <th>gmc</th>\n",
       "      <td>9373</td>\n",
       "    </tr>\n",
       "    <tr>\n",
       "      <th>bmw</th>\n",
       "      <td>9146</td>\n",
       "    </tr>\n",
       "    <tr>\n",
       "      <th>ram</th>\n",
       "      <td>7994</td>\n",
       "    </tr>\n",
       "    <tr>\n",
       "      <th>dodge</th>\n",
       "      <td>7563</td>\n",
       "    </tr>\n",
       "    <tr>\n",
       "      <th>mercedes-benz</th>\n",
       "      <td>6685</td>\n",
       "    </tr>\n",
       "    <tr>\n",
       "      <th>volkswagen</th>\n",
       "      <td>6241</td>\n",
       "    </tr>\n",
       "  </tbody>\n",
       "</table>\n",
       "</div>"
      ],
      "text/plain": [
       "               manufacturer\n",
       "ford                  37467\n",
       "chevrolet             32148\n",
       "toyota                20490\n",
       "honda                 12841\n",
       "nissan                11020\n",
       "jeep                  10442\n",
       "gmc                    9373\n",
       "bmw                    9146\n",
       "ram                    7994\n",
       "dodge                  7563\n",
       "mercedes-benz          6685\n",
       "volkswagen             6241"
      ]
     },
     "execution_count": 16,
     "metadata": {},
     "output_type": "execute_result"
    }
   ],
   "source": [
    "top_manufacturers_df = used_cars_df_nonull['manufacturer'].value_counts().to_frame()\n",
    "top_manufacturers_df.head(12)"
   ]
  },
  {
   "cell_type": "markdown",
   "id": "f5fa65e2",
   "metadata": {},
   "source": [
    "We are going to be focusing on this top manufacturers and adding **Audi**, **KIA**, and **Chrysler** taking in cosideration some popular Manufacturers in Mexico, creating DataFrames for each of them."
   ]
  },
  {
   "cell_type": "code",
   "execution_count": 17,
   "id": "6225e0cd",
   "metadata": {
    "scrolled": true
   },
   "outputs": [],
   "source": [
    "#Creating Individual Dataframes for every Manufacturer\n",
    "ford_df = used_cars_df_nonull[used_cars_df_nonull['manufacturer'] == 'ford']\n",
    "chevrolet_df = used_cars_df_nonull[used_cars_df_nonull['manufacturer'] == 'chevrolet']\n",
    "toyota_df = used_cars_df_nonull[used_cars_df_nonull['manufacturer'] == 'toyota']\n",
    "honda_df = used_cars_df_nonull[used_cars_df_nonull['manufacturer'] == 'honda']\n",
    "nissan_df = used_cars_df_nonull[used_cars_df_nonull['manufacturer'] == 'nissan']\n",
    "jeep_df = used_cars_df_nonull[used_cars_df_nonull['manufacturer'] == 'jeep']\n",
    "gmc_df = used_cars_df_nonull[used_cars_df_nonull['manufacturer'] == 'gmc']\n",
    "bmw_df = used_cars_df_nonull[used_cars_df_nonull['manufacturer'] == 'bmw']\n",
    "ram_df = used_cars_df_nonull[used_cars_df_nonull['manufacturer'] == 'ram']\n",
    "dodge_df = used_cars_df_nonull[used_cars_df_nonull['manufacturer'] == 'dodge']\n",
    "mercedes_df = used_cars_df_nonull[used_cars_df_nonull['manufacturer'] == 'mercedes-benz']\n",
    "vw_df = used_cars_df_nonull[used_cars_df_nonull['manufacturer'] == 'volkswagen']\n",
    "audi_df = used_cars_df_nonull[used_cars_df_nonull['manufacturer'] == 'audi']\n",
    "kia_df = used_cars_df_nonull[used_cars_df_nonull['manufacturer'] == 'kia']\n",
    "chrysler_df = used_cars_df_nonull[used_cars_df_nonull['manufacturer'] == 'chrysler']"
   ]
  },
  {
   "cell_type": "markdown",
   "id": "2fe5d3a8",
   "metadata": {},
   "source": [
    "We can easily visualize the most common Manufactures in Craigslist publications with the following charts.\n",
    "\n",
    "To continue our exploratory analysis, we will now focus on the most common models by Manufacturer and display this information in the second chart."
   ]
  },
  {
   "cell_type": "code",
   "execution_count": 18,
   "id": "7bcd7a15",
   "metadata": {},
   "outputs": [
    {
     "data": {
      "text/plain": [
       "<AxesSubplot:xlabel='count', ylabel='manufacturer'>"
      ]
     },
     "execution_count": 18,
     "metadata": {},
     "output_type": "execute_result"
    },
    {
     "data": {
      "image/png": "[encoded data removed]",
      "text/plain": [
       "<Figure size 1584x720 with 2 Axes>"
      ]
     },
     "metadata": {
      "needs_background": "light"
     },
     "output_type": "display_data"
    }
   ],
   "source": [
    "fig, ax =plt.subplots(1,2,figsize=(22, 10))\n",
    "sns.set(rc={\"axes.facecolor\":\"#fcfcfc\", \"axes.grid\":False,'xtick.labelsize':10,'ytick.labelsize':13})\n",
    "sns.countplot(y ='model',data = used_cars_df_nonull,order=used_cars_df_nonull.model.value_counts().iloc[:10].index, ax = ax[1]) \n",
    "sns.countplot(y ='manufacturer',data = used_cars_df_nonull,order=used_cars_df_nonull.manufacturer.value_counts().iloc[:10].index, ax= ax[0])"
   ]
  },
  {
   "cell_type": "code",
   "execution_count": 19,
   "id": "8b3a8cf0",
   "metadata": {},
   "outputs": [
    {
     "data": {
      "text/plain": [
       "<AxesSubplot:xlabel='transmission', ylabel='count'>"
      ]
     },
     "execution_count": 19,
     "metadata": {},
     "output_type": "execute_result"
    },
    {
     "data": {
      "image/png": "[encoded data removed]",
      "text/plain": [
       "<Figure size 1800x720 with 3 Axes>"
      ]
     },
     "metadata": {},
     "output_type": "display_data"
    }
   ],
   "source": [
    "fig, ax =plt.subplots(1,3, figsize=(25, 10))\n",
    "sns.set(rc={\"axes.facecolor\":\"#fcfcfc\", \"axes.grid\":False,'xtick.labelsize':15,'ytick.labelsize':15})\n",
    "sns.countplot(x ='type',data = used_cars_df_nonull,order=used_cars_df_nonull.type.value_counts().iloc[:5].index, ax = ax[0],palette=\"vlag\")\n",
    "sns.countplot(x ='drive',data = used_cars_df_nonull,order=used_cars_df_nonull.drive.value_counts().iloc[:5].index, ax = ax[1],palette=\"Pastel1\")\n",
    "sns.countplot(x ='transmission',data = used_cars_df_nonull,order=used_cars_df_nonull.transmission.value_counts().iloc[:5].index, ax = ax[2],palette=\"YlGn\")"
   ]
  },
  {
   "cell_type": "markdown",
   "id": "f3d9eb42",
   "metadata": {},
   "source": [
    "To better visualize this, and taking advantage of the already created Manufacturers DataFrames, we know arrange each of them by the most popular models adverstised."
   ]
  },
  {
   "cell_type": "code",
   "execution_count": 20,
   "id": "b9943143",
   "metadata": {},
   "outputs": [],
   "source": [
    "model = ford_df['model'].value_counts()\n",
    "ford_model = model.iloc[0:10]\n",
    "df1 = ford_model.to_frame()\n",
    "df1['manufacturer'] = 'ford'\n",
    "\n",
    "model = chevrolet_df['model'].value_counts()\n",
    "chevrolet_model = model.iloc[0:10]\n",
    "df2 = chevrolet_model.to_frame()\n",
    "df2['manufacturer'] = 'chevrolet'\n",
    "\n",
    "model = toyota_df['model'].value_counts()\n",
    "toyota_model = model.iloc[0:10]\n",
    "df3 = toyota_model.to_frame()\n",
    "df3['manufacturer'] = 'toyota'\n",
    "\n",
    "model = honda_df['model'].value_counts()\n",
    "honda_model = model.iloc[0:10]\n",
    "df4 = honda_model.to_frame()\n",
    "df4['manufacturer'] = 'honda'\n",
    "\n",
    "model = nissan_df['model'].value_counts()\n",
    "nissan_model = model.iloc[0:10]\n",
    "df5 = nissan_model.to_frame()\n",
    "df5['manufacturer'] = 'nissan'\n",
    "\n",
    "model = jeep_df['model'].value_counts()\n",
    "jeep_model = model.iloc[0:10]\n",
    "df6 = jeep_model.to_frame()\n",
    "df6['manufacturer'] = 'jeep'\n",
    "\n",
    "model = gmc_df['model'].value_counts()\n",
    "gmc_model = model.iloc[0:10]\n",
    "df7 = gmc_model.to_frame()\n",
    "df7['manufacturer'] = 'gmc'\n",
    "\n",
    "model = bmw_df['model'].value_counts()\n",
    "bmw_model = model.iloc[0:10]\n",
    "df8 = bmw_model.to_frame()\n",
    "df8['manufacturer'] = 'bmw'\n",
    "\n",
    "model = ram_df['model'].value_counts()\n",
    "ram_model = model.iloc[0:10]\n",
    "df9 = ram_model.to_frame()\n",
    "df9['manufacturer'] = 'ram'\n",
    "\n",
    "model = dodge_df['model'].value_counts()\n",
    "dodge_model = model.iloc[0:10]\n",
    "df10 = dodge_model.to_frame()\n",
    "df10['manufacturer'] = 'dodge'\n",
    "\n",
    "model = mercedes_df['model'].value_counts()\n",
    "mercedes_model = model.iloc[0:10]\n",
    "df11 = mercedes_model.to_frame()\n",
    "df11['manufacturer'] = 'mercedes-benz'\n",
    "\n",
    "model = vw_df['model'].value_counts()\n",
    "vw_model = model.iloc[0:10]\n",
    "df12 = vw_model.to_frame()\n",
    "df12['manufacturer'] = 'volkswagen'\n",
    "\n",
    "model = audi_df['model'].value_counts()\n",
    "audi_model = model.iloc[0:10]\n",
    "df13 = audi_model.to_frame()\n",
    "df13['manufacturer'] = 'audi'\n",
    "\n",
    "model = kia_df['model'].value_counts()\n",
    "kia_model = model.iloc[0:10]\n",
    "df14 = kia_model.to_frame()\n",
    "df14['manufacturer'] = 'kia'\n",
    "\n",
    "model = chrysler_df['model'].value_counts()\n",
    "chrysler_model = model.iloc[0:10]\n",
    "df15 = chrysler_model.to_frame()\n",
    "df15['manufacturer'] = 'chrysler'\n",
    "\n",
    "model_df = [df1, df2, df3, df4, df5, df6, df7, df8, df9, df10, df11, df12, df13, df14, df15]\n",
    "concat_model = pd.concat(model_df)\n",
    "\n",
    "concat_model = concat_model.reset_index()\n",
    "model_count_df = concat_model.rename(columns ={'index': 'Model', \n",
    "                                               'model': 'Count', \n",
    "                                               'manufacturer': 'Manufacturer'})"
   ]
  },
  {
   "cell_type": "markdown",
   "id": "aa007e93",
   "metadata": {},
   "source": [
    "As expected, the top 10 models were going to be from the most popularly advertised Manufacturer, Ford."
   ]
  },
  {
   "cell_type": "code",
   "execution_count": 21,
   "id": "a575a843",
   "metadata": {},
   "outputs": [
    {
     "data": {
      "text/html": [
       "<div>\n",
       "<style scoped>\n",
       "    .dataframe tbody tr th:only-of-type {\n",
       "        vertical-align: middle;\n",
       "    }\n",
       "\n",
       "    .dataframe tbody tr th {\n",
       "        vertical-align: top;\n",
       "    }\n",
       "\n",
       "    .dataframe thead th {\n",
       "        text-align: right;\n",
       "    }\n",
       "</style>\n",
       "<table border=\"1\" class=\"dataframe\">\n",
       "  <thead>\n",
       "    <tr style=\"text-align: right;\">\n",
       "      <th></th>\n",
       "      <th>Model</th>\n",
       "      <th>Count</th>\n",
       "      <th>Manufacturer</th>\n",
       "    </tr>\n",
       "  </thead>\n",
       "  <tbody>\n",
       "    <tr>\n",
       "      <th>0</th>\n",
       "      <td>f-150</td>\n",
       "      <td>3189</td>\n",
       "      <td>ford</td>\n",
       "    </tr>\n",
       "    <tr>\n",
       "      <th>1</th>\n",
       "      <td>mustang</td>\n",
       "      <td>1176</td>\n",
       "      <td>ford</td>\n",
       "    </tr>\n",
       "    <tr>\n",
       "      <th>2</th>\n",
       "      <td>escape</td>\n",
       "      <td>1082</td>\n",
       "      <td>ford</td>\n",
       "    </tr>\n",
       "    <tr>\n",
       "      <th>3</th>\n",
       "      <td>explorer</td>\n",
       "      <td>1008</td>\n",
       "      <td>ford</td>\n",
       "    </tr>\n",
       "    <tr>\n",
       "      <th>4</th>\n",
       "      <td>focus</td>\n",
       "      <td>858</td>\n",
       "      <td>ford</td>\n",
       "    </tr>\n",
       "    <tr>\n",
       "      <th>5</th>\n",
       "      <td>fusion</td>\n",
       "      <td>785</td>\n",
       "      <td>ford</td>\n",
       "    </tr>\n",
       "    <tr>\n",
       "      <th>6</th>\n",
       "      <td>f150</td>\n",
       "      <td>663</td>\n",
       "      <td>ford</td>\n",
       "    </tr>\n",
       "    <tr>\n",
       "      <th>7</th>\n",
       "      <td>fusion se</td>\n",
       "      <td>505</td>\n",
       "      <td>ford</td>\n",
       "    </tr>\n",
       "    <tr>\n",
       "      <th>8</th>\n",
       "      <td>ranger</td>\n",
       "      <td>496</td>\n",
       "      <td>ford</td>\n",
       "    </tr>\n",
       "    <tr>\n",
       "      <th>9</th>\n",
       "      <td>expedition</td>\n",
       "      <td>489</td>\n",
       "      <td>ford</td>\n",
       "    </tr>\n",
       "  </tbody>\n",
       "</table>\n",
       "</div>"
      ],
      "text/plain": [
       "        Model  Count Manufacturer\n",
       "0       f-150   3189         ford\n",
       "1     mustang   1176         ford\n",
       "2      escape   1082         ford\n",
       "3    explorer   1008         ford\n",
       "4       focus    858         ford\n",
       "5      fusion    785         ford\n",
       "6        f150    663         ford\n",
       "7   fusion se    505         ford\n",
       "8      ranger    496         ford\n",
       "9  expedition    489         ford"
      ]
     },
     "execution_count": 21,
     "metadata": {},
     "output_type": "execute_result"
    }
   ],
   "source": [
    "model_count_df.head(10)"
   ]
  },
  {
   "cell_type": "markdown",
   "id": "e0be2da4",
   "metadata": {},
   "source": [
    "if we try to Analyze metrics and measures of central tendency this way, it will be impossible to quickly visualize the most popularly sold used models for the Manufacturers at the bottom. The best option is to build a chart that showcases both the spread of manufacturers and models at the same time."
   ]
  },
  {
   "cell_type": "code",
   "execution_count": 22,
   "id": "112ea8f9",
   "metadata": {},
   "outputs": [
    {
     "data": {
      "application/vnd.plotly.v1+json": {
       "config": {
        "plotlyServerURL": "https://plot.ly"
       },
       "data": [
        {
         "branchvalues": "total",
         "customdata": [
          [
           "kia"
          ],
          [
           "kia"
          ],
          [
           "kia"
          ],
          [
           "kia"
          ],
          [
           "chevrolet"
          ],
          [
           "chevrolet"
          ],
          [
           "chevrolet"
          ],
          [
           "chevrolet"
          ],
          [
           "gmc"
          ],
          [
           "kia"
          ],
          [
           "volkswagen"
          ],
          [
           "volkswagen"
          ],
          [
           "jeep"
          ],
          [
           "dodge"
          ],
          [
           "dodge"
          ],
          [
           "mercedes-benz"
          ],
          [
           "ford"
          ],
          [
           "toyota"
          ],
          [
           "ford"
          ],
          [
           "nissan"
          ],
          [
           "bmw"
          ],
          [
           "ram"
          ],
          [
           "bmw"
          ],
          [
           "bmw"
          ],
          [
           "bmw"
          ],
          [
           "bmw"
          ],
          [
           "chrysler"
          ],
          [
           "chrysler"
          ],
          [
           "chrysler"
          ],
          [
           "bmw"
          ],
          [
           "nissan"
          ],
          [
           "jeep"
          ],
          [
           "jeep"
          ],
          [
           "jeep"
          ],
          [
           "jeep"
          ],
          [
           "bmw"
          ],
          [
           "jeep"
          ],
          [
           "bmw"
          ],
          [
           "jeep"
          ],
          [
           "gmc"
          ],
          [
           "volkswagen"
          ],
          [
           "kia"
          ],
          [
           "chrysler"
          ],
          [
           "nissan"
          ],
          [
           "jeep"
          ],
          [
           "ram"
          ],
          [
           "honda"
          ],
          [
           "toyota"
          ],
          [
           "kia"
          ],
          [
           "honda"
          ],
          [
           "chrysler"
          ],
          [
           "ram"
          ],
          [
           "ram"
          ],
          [
           "ram"
          ],
          [
           "ram"
          ],
          [
           "ram"
          ],
          [
           "ram"
          ],
          [
           "chrysler"
          ],
          [
           "ram"
          ],
          [
           "bmw"
          ],
          [
           "chevrolet"
          ],
          [
           "ford"
          ],
          [
           "ford"
          ],
          [
           "ford"
          ],
          [
           "ford"
          ],
          [
           "ford"
          ],
          [
           "honda"
          ],
          [
           "ford"
          ],
          [
           "kia"
          ],
          [
           "kia"
          ],
          [
           "mercedes-benz"
          ],
          [
           "honda"
          ],
          [
           "honda"
          ],
          [
           "nissan"
          ],
          [
           "nissan"
          ],
          [
           "dodge"
          ],
          [
           "volkswagen"
          ],
          [
           "volkswagen"
          ],
          [
           "mercedes-benz"
          ],
          [
           "mercedes-benz"
          ],
          [
           "honda"
          ],
          [
           "toyota"
          ],
          [
           "chevrolet"
          ],
          [
           "honda"
          ],
          [
           "chevrolet"
          ],
          [
           "dodge"
          ],
          [
           "dodge"
          ],
          [
           "dodge"
          ],
          [
           "mercedes-benz"
          ],
          [
           "mercedes-benz"
          ],
          [
           "toyota"
          ],
          [
           "toyota"
          ],
          [
           "chevrolet"
          ],
          [
           "gmc"
          ],
          [
           "volkswagen"
          ],
          [
           "nissan"
          ],
          [
           "chrysler"
          ],
          [
           "chrysler"
          ],
          [
           "toyota"
          ],
          [
           "volkswagen"
          ],
          [
           "toyota"
          ],
          [
           "mercedes-benz"
          ],
          [
           "nissan"
          ],
          [
           "kia"
          ],
          [
           "audi"
          ],
          [
           "ford"
          ],
          [
           "audi"
          ],
          [
           "audi"
          ],
          [
           "chrysler"
          ],
          [
           "audi"
          ],
          [
           "mercedes-benz"
          ],
          [
           "toyota"
          ],
          [
           "volkswagen"
          ],
          [
           "dodge"
          ],
          [
           "dodge"
          ],
          [
           "dodge"
          ],
          [
           "jeep"
          ],
          [
           "honda"
          ],
          [
           "honda"
          ],
          [
           "mercedes-benz"
          ],
          [
           "jeep"
          ],
          [
           "ford"
          ],
          [
           "chevrolet"
          ],
          [
           "volkswagen"
          ],
          [
           "volkswagen"
          ],
          [
           "dodge"
          ],
          [
           "chevrolet"
          ],
          [
           "nissan"
          ],
          [
           "mercedes-benz"
          ],
          [
           "nissan"
          ],
          [
           "honda"
          ],
          [
           "gmc"
          ],
          [
           "toyota"
          ],
          [
           "audi"
          ],
          [
           "audi"
          ],
          [
           "audi"
          ],
          [
           "audi"
          ],
          [
           "bmw"
          ],
          [
           "ram"
          ],
          [
           "audi"
          ],
          [
           "gmc"
          ],
          [
           "gmc"
          ],
          [
           "gmc"
          ],
          [
           "gmc"
          ],
          [
           "toyota"
          ],
          [
           "nissan"
          ],
          [
           "chrysler"
          ],
          [
           "audi"
          ],
          [
           "gmc"
          ],
          [
           "gmc"
          ],
          [
           "audi"
          ],
          [
           "bmw"
          ],
          [
           "chevrolet"
          ],
          [
           "chrysler"
          ],
          [
           "dodge"
          ],
          [
           "ford"
          ],
          [
           "gmc"
          ],
          [
           "honda"
          ],
          [
           "jeep"
          ],
          [
           "kia"
          ],
          [
           "mercedes-benz"
          ],
          [
           "nissan"
          ],
          [
           "ram"
          ],
          [
           "toyota"
          ],
          [
           "volkswagen"
          ]
         ],
         "domain": {
          "x": [
           0,
           1
          ],
          "y": [
           0,
           1
          ]
         },
         "hovertemplate": "labels=%{label}<br>Count=%{value}<br>parent=%{parent}<br>id=%{id}<br>Manufacturer=%{customdata[0]}<extra></extra>",
         "ids": [
          "kia/sportage",
          "kia/soul s wagon 4d",
          "kia/soul",
          "kia/sorento",
          "chevrolet/silverado 2500hd",
          "chevrolet/silverado 1500 regular",
          "chevrolet/silverado 1500",
          "chevrolet/silverado",
          "gmc/sierra 2500hd",
          "kia/soul wagon 4d",
          "volkswagen/golf gti s hatchback",
          "volkswagen/gti",
          "jeep/grand cherokee",
          "dodge/grand caravan sxt",
          "dodge/grand caravan",
          "mercedes-benz/gla-class gla 45",
          "ford/fusion se",
          "toyota/highlander",
          "ford/fusion",
          "nissan/frontier",
          "bmw/328i",
          "ram/3500",
          "bmw/3 series",
          "bmw/3 series 330i xdrive sedan",
          "bmw/3 series 340i sedan 4d",
          "bmw/4 series 440i xdrive gran",
          "chrysler/300",
          "chrysler/300 limited sedan 4d",
          "chrysler/300 touring l sedan 4d",
          "bmw/3-series",
          "nissan/versa",
          "jeep/wrangler sport suv 2d",
          "jeep/wrangler unlimited",
          "jeep/wrangler unlimited all new",
          "jeep/wrangler unlimited sahara",
          "bmw/x5",
          "jeep/wrangler unlimited sport",
          "bmw/x3",
          "jeep/wrangler",
          "gmc/yukon",
          "volkswagen/passat",
          "kia/optima lx",
          "chrysler/pacifica",
          "nissan/pathfinder",
          "jeep/patriot",
          "ram/pickup 1500",
          "honda/pilot",
          "toyota/prius",
          "kia/optima",
          "honda/odyssey",
          "chrysler/200",
          "ram/1500 regular cab tradesman",
          "ram/1500 quad cab harvest pickup",
          "ram/1500 crew cab big horn",
          "ram/1500 classic regular cab",
          "ram/1500 4x4",
          "ram/1500",
          "chrysler/200 limited",
          "ram/2500",
          "bmw/1 series 128i coupe 2d",
          "chevrolet/equinox",
          "ford/escape",
          "ford/expedition",
          "ford/explorer",
          "ford/f-150",
          "ford/f150",
          "honda/fit",
          "ford/focus",
          "kia/forte",
          "kia/forte koup ex coupe 2d",
          "mercedes-benz/benz e350",
          "honda/accord ex",
          "honda/accord ex-l",
          "nissan/altima",
          "nissan/altima 2.5 s",
          "dodge/avenger",
          "volkswagen/beetle",
          "volkswagen/beetle 1.8t fleet",
          "mercedes-benz/benz",
          "mercedes-benz/benz c300",
          "honda/civic lx",
          "toyota/corolla",
          "chevrolet/corvette",
          "honda/cr-v",
          "chevrolet/cruze",
          "dodge/dakota",
          "dodge/dart",
          "dodge/durango",
          "mercedes-benz/e-class",
          "mercedes-benz/e-class e 350",
          "toyota/tacoma",
          "toyota/tacoma access cab pickup",
          "chevrolet/tahoe",
          "gmc/terrain",
          "volkswagen/tiguan",
          "nissan/titan",
          "chrysler/town & country",
          "chrysler/town and country",
          "toyota/tundra",
          "volkswagen/touareg tdi sport suv",
          "toyota/rav4",
          "mercedes-benz/s-class",
          "nissan/rogue",
          "kia/rio",
          "audi/s5 premium plus coupe 2d",
          "ford/ranger",
          "audi/q5 premium sport utility 4d",
          "audi/q5",
          "chrysler/pt cruiser",
          "audi/q8 premium sport utility 4d",
          "mercedes-benz/c-class c 300",
          "toyota/camry",
          "volkswagen/cc",
          "dodge/challenger",
          "dodge/challenger r/t coupe 2d",
          "dodge/charger",
          "jeep/cherokee",
          "honda/civic",
          "honda/civic ex",
          "mercedes-benz/c-class",
          "jeep/liberty",
          "ford/mustang",
          "chevrolet/impala",
          "volkswagen/jetta",
          "volkswagen/jetta 1.4t s sedan 4d",
          "dodge/journey",
          "chevrolet/malibu",
          "nissan/maxima",
          "mercedes-benz/metris passenger",
          "nissan/murano",
          "honda/accord",
          "gmc/acadia",
          "toyota/4runner",
          "audi/a6 2.0t premium sedan 4d",
          "audi/a6 2.0t premium plus sedan",
          "audi/a6",
          "audi/a4 ultra premium sedan 4d",
          "bmw/5 series",
          "ram/5500",
          "audi/a4",
          "gmc/sierra 1500 regular cab",
          "gmc/sierra 1500 double cab sle",
          "gmc/sierra 1500",
          "gmc/sierra",
          "toyota/sienna",
          "nissan/sentra",
          "chrysler/sebring",
          "audi/s5 premium plus sedan 4d",
          "gmc/sierra 1500 extended cab slt",
          "gmc/sierra 1500 crew cab slt",
          "audi",
          "bmw",
          "chevrolet",
          "chrysler",
          "dodge",
          "ford",
          "gmc",
          "honda",
          "jeep",
          "kia",
          "mercedes-benz",
          "nissan",
          "ram",
          "toyota",
          "volkswagen"
         ],
         "labels": [
          "sportage",
          "soul s wagon 4d",
          "soul",
          "sorento",
          "silverado 2500hd",
          "silverado 1500 regular",
          "silverado 1500",
          "silverado",
          "sierra 2500hd",
          "soul wagon 4d",
          "golf gti s hatchback",
          "gti",
          "grand cherokee",
          "grand caravan sxt",
          "grand caravan",
          "gla-class gla 45",
          "fusion se",
          "highlander",
          "fusion",
          "frontier",
          "328i",
          "3500",
          "3 series",
          "3 series 330i xdrive sedan",
          "3 series 340i sedan 4d",
          "4 series 440i xdrive gran",
          "300",
          "300 limited sedan 4d",
          "300 touring l sedan 4d",
          "3-series",
          "versa",
          "wrangler sport suv 2d",
          "wrangler unlimited",
          "wrangler unlimited all new",
          "wrangler unlimited sahara",
          "x5",
          "wrangler unlimited sport",
          "x3",
          "wrangler",
          "yukon",
          "passat",
          "optima lx",
          "pacifica",
          "pathfinder",
          "patriot",
          "pickup 1500",
          "pilot",
          "prius",
          "optima",
          "odyssey",
          "200",
          "1500 regular cab tradesman",
          "1500 quad cab harvest pickup",
          "1500 crew cab big horn",
          "1500 classic regular cab",
          "1500 4x4",
          "1500",
          "200 limited",
          "2500",
          "1 series 128i coupe 2d",
          "equinox",
          "escape",
          "expedition",
          "explorer",
          "f-150",
          "f150",
          "fit",
          "focus",
          "forte",
          "forte koup ex coupe 2d",
          "benz e350",
          "accord ex",
          "accord ex-l",
          "altima",
          "altima 2.5 s",
          "avenger",
          "beetle",
          "beetle 1.8t fleet",
          "benz",
          "benz c300",
          "civic lx",
          "corolla",
          "corvette",
          "cr-v",
          "cruze",
          "dakota",
          "dart",
          "durango",
          "e-class",
          "e-class e 350",
          "tacoma",
          "tacoma access cab pickup",
          "tahoe",
          "terrain",
          "tiguan",
          "titan",
          "town & country",
          "town and country",
          "tundra",
          "touareg tdi sport suv",
          "rav4",
          "s-class",
          "rogue",
          "rio",
          "s5 premium plus coupe 2d",
          "ranger",
          "q5 premium sport utility 4d",
          "q5",
          "pt cruiser",
          "q8 premium sport utility 4d",
          "c-class c 300",
          "camry",
          "cc",
          "challenger",
          "challenger r/t coupe 2d",
          "charger",
          "cherokee",
          "civic",
          "civic ex",
          "c-class",
          "liberty",
          "mustang",
          "impala",
          "jetta",
          "jetta 1.4t s sedan 4d",
          "journey",
          "malibu",
          "maxima",
          "metris passenger",
          "murano",
          "accord",
          "acadia",
          "4runner",
          "a6 2.0t premium sedan 4d",
          "a6 2.0t premium plus sedan",
          "a6",
          "a4 ultra premium sedan 4d",
          "5 series",
          "5500",
          "a4",
          "sierra 1500 regular cab",
          "sierra 1500 double cab sle",
          "sierra 1500",
          "sierra",
          "sienna",
          "sentra",
          "sebring",
          "s5 premium plus sedan 4d",
          "sierra 1500 extended cab slt",
          "sierra 1500 crew cab slt",
          "audi",
          "bmw",
          "chevrolet",
          "chrysler",
          "dodge",
          "ford",
          "gmc",
          "honda",
          "jeep",
          "kia",
          "mercedes-benz",
          "nissan",
          "ram",
          "toyota",
          "volkswagen"
         ],
         "marker": {
          "colors": [
           "#636efa",
           "#636efa",
           "#636efa",
           "#636efa",
           "#EF553B",
           "#EF553B",
           "#EF553B",
           "#EF553B",
           "#00cc96",
           "#636efa",
           "#ab63fa",
           "#ab63fa",
           "#FFA15A",
           "#19d3f3",
           "#19d3f3",
           "#FF6692",
           "#B6E880",
           "#FF97FF",
           "#B6E880",
           "#FECB52",
           "#636efa",
           "#EF553B",
           "#636efa",
           "#636efa",
           "#636efa",
           "#636efa",
           "#00cc96",
           "#00cc96",
           "#00cc96",
           "#636efa",
           "#FECB52",
           "#FFA15A",
           "#FFA15A",
           "#FFA15A",
           "#FFA15A",
           "#636efa",
           "#FFA15A",
           "#636efa",
           "#FFA15A",
           "#00cc96",
           "#ab63fa",
           "#636efa",
           "#00cc96",
           "#FECB52",
           "#FFA15A",
           "#EF553B",
           "#ab63fa",
           "#FF97FF",
           "#636efa",
           "#ab63fa",
           "#00cc96",
           "#EF553B",
           "#EF553B",
           "#EF553B",
           "#EF553B",
           "#EF553B",
           "#EF553B",
           "#00cc96",
           "#EF553B",
           "#636efa",
           "#EF553B",
           "#B6E880",
           "#B6E880",
           "#B6E880",
           "#B6E880",
           "#B6E880",
           "#ab63fa",
           "#B6E880",
           "#636efa",
           "#636efa",
           "#FF6692",
           "#ab63fa",
           "#ab63fa",
           "#FECB52",
           "#FECB52",
           "#19d3f3",
           "#ab63fa",
           "#ab63fa",
           "#FF6692",
           "#FF6692",
           "#ab63fa",
           "#FF97FF",
           "#EF553B",
           "#ab63fa",
           "#EF553B",
           "#19d3f3",
           "#19d3f3",
           "#19d3f3",
           "#FF6692",
           "#FF6692",
           "#FF97FF",
           "#FF97FF",
           "#EF553B",
           "#00cc96",
           "#ab63fa",
           "#FECB52",
           "#00cc96",
           "#00cc96",
           "#FF97FF",
           "#ab63fa",
           "#FF97FF",
           "#FF6692",
           "#FECB52",
           "#636efa",
           "#FFA15A",
           "#B6E880",
           "#FFA15A",
           "#FFA15A",
           "#00cc96",
           "#FFA15A",
           "#FF6692",
           "#FF97FF",
           "#ab63fa",
           "#19d3f3",
           "#19d3f3",
           "#19d3f3",
           "#FFA15A",
           "#ab63fa",
           "#ab63fa",
           "#FF6692",
           "#FFA15A",
           "#B6E880",
           "#EF553B",
           "#ab63fa",
           "#ab63fa",
           "#19d3f3",
           "#EF553B",
           "#FECB52",
           "#FF6692",
           "#FECB52",
           "#ab63fa",
           "#00cc96",
           "#FF97FF",
           "#FFA15A",
           "#FFA15A",
           "#FFA15A",
           "#FFA15A",
           "#636efa",
           "#EF553B",
           "#FFA15A",
           "#00cc96",
           "#00cc96",
           "#00cc96",
           "#00cc96",
           "#FF97FF",
           "#FECB52",
           "#00cc96",
           "#FFA15A",
           "#00cc96",
           "#00cc96",
           "#FFA15A",
           "#636efa",
           "#EF553B",
           "#00cc96",
           "#19d3f3",
           "#B6E880",
           "#00cc96",
           "#ab63fa",
           "#FFA15A",
           "#636efa",
           "#FF6692",
           "#FECB52",
           "#EF553B",
           "#FF97FF",
           "#ab63fa"
          ]
         },
         "name": "",
         "parents": [
          "kia",
          "kia",
          "kia",
          "kia",
          "chevrolet",
          "chevrolet",
          "chevrolet",
          "chevrolet",
          "gmc",
          "kia",
          "volkswagen",
          "volkswagen",
          "jeep",
          "dodge",
          "dodge",
          "mercedes-benz",
          "ford",
          "toyota",
          "ford",
          "nissan",
          "bmw",
          "ram",
          "bmw",
          "bmw",
          "bmw",
          "bmw",
          "chrysler",
          "chrysler",
          "chrysler",
          "bmw",
          "nissan",
          "jeep",
          "jeep",
          "jeep",
          "jeep",
          "bmw",
          "jeep",
          "bmw",
          "jeep",
          "gmc",
          "volkswagen",
          "kia",
          "chrysler",
          "nissan",
          "jeep",
          "ram",
          "honda",
          "toyota",
          "kia",
          "honda",
          "chrysler",
          "ram",
          "ram",
          "ram",
          "ram",
          "ram",
          "ram",
          "chrysler",
          "ram",
          "bmw",
          "chevrolet",
          "ford",
          "ford",
          "ford",
          "ford",
          "ford",
          "honda",
          "ford",
          "kia",
          "kia",
          "mercedes-benz",
          "honda",
          "honda",
          "nissan",
          "nissan",
          "dodge",
          "volkswagen",
          "volkswagen",
          "mercedes-benz",
          "mercedes-benz",
          "honda",
          "toyota",
          "chevrolet",
          "honda",
          "chevrolet",
          "dodge",
          "dodge",
          "dodge",
          "mercedes-benz",
          "mercedes-benz",
          "toyota",
          "toyota",
          "chevrolet",
          "gmc",
          "volkswagen",
          "nissan",
          "chrysler",
          "chrysler",
          "toyota",
          "volkswagen",
          "toyota",
          "mercedes-benz",
          "nissan",
          "kia",
          "audi",
          "ford",
          "audi",
          "audi",
          "chrysler",
          "audi",
          "mercedes-benz",
          "toyota",
          "volkswagen",
          "dodge",
          "dodge",
          "dodge",
          "jeep",
          "honda",
          "honda",
          "mercedes-benz",
          "jeep",
          "ford",
          "chevrolet",
          "volkswagen",
          "volkswagen",
          "dodge",
          "chevrolet",
          "nissan",
          "mercedes-benz",
          "nissan",
          "honda",
          "gmc",
          "toyota",
          "audi",
          "audi",
          "audi",
          "audi",
          "bmw",
          "ram",
          "audi",
          "gmc",
          "gmc",
          "gmc",
          "gmc",
          "toyota",
          "nissan",
          "chrysler",
          "audi",
          "gmc",
          "gmc",
          "",
          "",
          "",
          "",
          "",
          "",
          "",
          "",
          "",
          "",
          "",
          "",
          "",
          "",
          ""
         ],
         "type": "sunburst",
         "values": [
          177,
          104,
          545,
          302,
          864,
          614,
          2742,
          1231,
          468,
          140,
          165,
          148,
          953,
          296,
          799,
          156,
          505,
          506,
          785,
          336,
          333,
          487,
          358,
          300,
          219,
          148,
          346,
          117,
          98,
          138,
          393,
          382,
          507,
          303,
          319,
          340,
          440,
          208,
          1501,
          395,
          379,
          165,
          116,
          270,
          305,
          100,
          511,
          862,
          356,
          729,
          359,
          117,
          174,
          635,
          383,
          116,
          1635,
          88,
          940,
          149,
          777,
          1082,
          489,
          1008,
          3189,
          663,
          280,
          858,
          227,
          129,
          157,
          234,
          265,
          1346,
          229,
          181,
          261,
          199,
          137,
          132,
          356,
          991,
          1015,
          800,
          633,
          244,
          166,
          328,
          297,
          89,
          1269,
          474,
          884,
          293,
          175,
          229,
          425,
          216,
          598,
          120,
          767,
          145,
          553,
          98,
          127,
          496,
          184,
          228,
          225,
          153,
          122,
          1596,
          112,
          361,
          343,
          721,
          392,
          1341,
          251,
          352,
          381,
          1176,
          931,
          678,
          184,
          244,
          794,
          369,
          102,
          296,
          1458,
          353,
          622,
          134,
          186,
          114,
          106,
          241,
          95,
          342,
          335,
          232,
          848,
          479,
          534,
          659,
          104,
          150,
          260,
          229,
          1724,
          2434,
          10485,
          2094,
          3683,
          10251,
          3892,
          6225,
          5483,
          2243,
          1689,
          4680,
          4682,
          8219,
          2421
         ]
        }
       ],
       "layout": {
        "legend": {
         "tracegroupgap": 0
        },
        "margin": {
         "b": 1,
         "l": 1,
         "r": 1,
         "t": 1
        },
        "template": {
         "data": {
          "bar": [
           {
            "error_x": {
             "color": "#2a3f5f"
            },
            "error_y": {
             "color": "#2a3f5f"
            },
            "marker": {
             "line": {
              "color": "#E5ECF6",
              "width": 0.5
             },
             "pattern": {
              "fillmode": "overlay",
              "size": 10,
              "solidity": 0.2
             }
            },
            "type": "bar"
           }
          ],
          "barpolar": [
           {
            "marker": {
             "line": {
              "color": "#E5ECF6",
              "width": 0.5
             },
             "pattern": {
              "fillmode": "overlay",
              "size": 10,
              "solidity": 0.2
             }
            },
            "type": "barpolar"
           }
          ],
          "carpet": [
           {
            "aaxis": {
             "endlinecolor": "#2a3f5f",
             "gridcolor": "white",
             "linecolor": "white",
             "minorgridcolor": "white",
             "startlinecolor": "#2a3f5f"
            },
            "baxis": {
             "endlinecolor": "#2a3f5f",
             "gridcolor": "white",
             "linecolor": "white",
             "minorgridcolor": "white",
             "startlinecolor": "#2a3f5f"
            },
            "type": "carpet"
           }
          ],
          "choropleth": [
           {
            "colorbar": {
             "outlinewidth": 0,
             "ticks": ""
            },
            "type": "choropleth"
           }
          ],
          "contour": [
           {
            "colorbar": {
             "outlinewidth": 0,
             "ticks": ""
            },
            "colorscale": [
             [
              0,
              "#0d0887"
             ],
             [
              0.1111111111111111,
              "#46039f"
             ],
             [
              0.2222222222222222,
              "#7201a8"
             ],
             [
              0.3333333333333333,
              "#9c179e"
             ],
             [
              0.4444444444444444,
              "#bd3786"
             ],
             [
              0.5555555555555556,
              "#d8576b"
             ],
             [
              0.6666666666666666,
              "#ed7953"
             ],
             [
              0.7777777777777778,
              "#fb9f3a"
             ],
             [
              0.8888888888888888,
              "#fdca26"
             ],
             [
              1,
              "#f0f921"
             ]
            ],
            "type": "contour"
           }
          ],
          "contourcarpet": [
           {
            "colorbar": {
             "outlinewidth": 0,
             "ticks": ""
            },
            "type": "contourcarpet"
           }
          ],
          "heatmap": [
           {
            "colorbar": {
             "outlinewidth": 0,
             "ticks": ""
            },
            "colorscale": [
             [
              0,
              "#0d0887"
             ],
             [
              0.1111111111111111,
              "#46039f"
             ],
             [
              0.2222222222222222,
              "#7201a8"
             ],
             [
              0.3333333333333333,
              "#9c179e"
             ],
             [
              0.4444444444444444,
              "#bd3786"
             ],
             [
              0.5555555555555556,
              "#d8576b"
             ],
             [
              0.6666666666666666,
              "#ed7953"
             ],
             [
              0.7777777777777778,
              "#fb9f3a"
             ],
             [
              0.8888888888888888,
              "#fdca26"
             ],
             [
              1,
              "#f0f921"
             ]
            ],
            "type": "heatmap"
           }
          ],
          "heatmapgl": [
           {
            "colorbar": {
             "outlinewidth": 0,
             "ticks": ""
            },
            "colorscale": [
             [
              0,
              "#0d0887"
             ],
             [
              0.1111111111111111,
              "#46039f"
             ],
             [
              0.2222222222222222,
              "#7201a8"
             ],
             [
              0.3333333333333333,
              "#9c179e"
             ],
             [
              0.4444444444444444,
              "#bd3786"
             ],
             [
              0.5555555555555556,
              "#d8576b"
             ],
             [
              0.6666666666666666,
              "#ed7953"
             ],
             [
              0.7777777777777778,
              "#fb9f3a"
             ],
             [
              0.8888888888888888,
              "#fdca26"
             ],
             [
              1,
              "#f0f921"
             ]
            ],
            "type": "heatmapgl"
           }
          ],
          "histogram": [
           {
            "marker": {
             "pattern": {
              "fillmode": "overlay",
              "size": 10,
              "solidity": 0.2
             }
            },
            "type": "histogram"
           }
          ],
          "histogram2d": [
           {
            "colorbar": {
             "outlinewidth": 0,
             "ticks": ""
            },
            "colorscale": [
             [
              0,
              "#0d0887"
             ],
             [
              0.1111111111111111,
              "#46039f"
             ],
             [
              0.2222222222222222,
              "#7201a8"
             ],
             [
              0.3333333333333333,
              "#9c179e"
             ],
             [
              0.4444444444444444,
              "#bd3786"
             ],
             [
              0.5555555555555556,
              "#d8576b"
             ],
             [
              0.6666666666666666,
              "#ed7953"
             ],
             [
              0.7777777777777778,
              "#fb9f3a"
             ],
             [
              0.8888888888888888,
              "#fdca26"
             ],
             [
              1,
              "#f0f921"
             ]
            ],
            "type": "histogram2d"
           }
          ],
          "histogram2dcontour": [
           {
            "colorbar": {
             "outlinewidth": 0,
             "ticks": ""
            },
            "colorscale": [
             [
              0,
              "#0d0887"
             ],
             [
              0.1111111111111111,
              "#46039f"
             ],
             [
              0.2222222222222222,
              "#7201a8"
             ],
             [
              0.3333333333333333,
              "#9c179e"
             ],
             [
              0.4444444444444444,
              "#bd3786"
             ],
             [
              0.5555555555555556,
              "#d8576b"
             ],
             [
              0.6666666666666666,
              "#ed7953"
             ],
             [
              0.7777777777777778,
              "#fb9f3a"
             ],
             [
              0.8888888888888888,
              "#fdca26"
             ],
             [
              1,
              "#f0f921"
             ]
            ],
            "type": "histogram2dcontour"
           }
          ],
          "mesh3d": [
           {
            "colorbar": {
             "outlinewidth": 0,
             "ticks": ""
            },
            "type": "mesh3d"
           }
          ],
          "parcoords": [
           {
            "line": {
             "colorbar": {
              "outlinewidth": 0,
              "ticks": ""
             }
            },
            "type": "parcoords"
           }
          ],
          "pie": [
           {
            "automargin": true,
            "type": "pie"
           }
          ],
          "scatter": [
           {
            "marker": {
             "colorbar": {
              "outlinewidth": 0,
              "ticks": ""
             }
            },
            "type": "scatter"
           }
          ],
          "scatter3d": [
           {
            "line": {
             "colorbar": {
              "outlinewidth": 0,
              "ticks": ""
             }
            },
            "marker": {
             "colorbar": {
              "outlinewidth": 0,
              "ticks": ""
             }
            },
            "type": "scatter3d"
           }
          ],
          "scattercarpet": [
           {
            "marker": {
             "colorbar": {
              "outlinewidth": 0,
              "ticks": ""
             }
            },
            "type": "scattercarpet"
           }
          ],
          "scattergeo": [
           {
            "marker": {
             "colorbar": {
              "outlinewidth": 0,
              "ticks": ""
             }
            },
            "type": "scattergeo"
           }
          ],
          "scattergl": [
           {
            "marker": {
             "colorbar": {
              "outlinewidth": 0,
              "ticks": ""
             }
            },
            "type": "scattergl"
           }
          ],
          "scattermapbox": [
           {
            "marker": {
             "colorbar": {
              "outlinewidth": 0,
              "ticks": ""
             }
            },
            "type": "scattermapbox"
           }
          ],
          "scatterpolar": [
           {
            "marker": {
             "colorbar": {
              "outlinewidth": 0,
              "ticks": ""
             }
            },
            "type": "scatterpolar"
           }
          ],
          "scatterpolargl": [
           {
            "marker": {
             "colorbar": {
              "outlinewidth": 0,
              "ticks": ""
             }
            },
            "type": "scatterpolargl"
           }
          ],
          "scatterternary": [
           {
            "marker": {
             "colorbar": {
              "outlinewidth": 0,
              "ticks": ""
             }
            },
            "type": "scatterternary"
           }
          ],
          "surface": [
           {
            "colorbar": {
             "outlinewidth": 0,
             "ticks": ""
            },
            "colorscale": [
             [
              0,
              "#0d0887"
             ],
             [
              0.1111111111111111,
              "#46039f"
             ],
             [
              0.2222222222222222,
              "#7201a8"
             ],
             [
              0.3333333333333333,
              "#9c179e"
             ],
             [
              0.4444444444444444,
              "#bd3786"
             ],
             [
              0.5555555555555556,
              "#d8576b"
             ],
             [
              0.6666666666666666,
              "#ed7953"
             ],
             [
              0.7777777777777778,
              "#fb9f3a"
             ],
             [
              0.8888888888888888,
              "#fdca26"
             ],
             [
              1,
              "#f0f921"
             ]
            ],
            "type": "surface"
           }
          ],
          "table": [
           {
            "cells": {
             "fill": {
              "color": "#EBF0F8"
             },
             "line": {
              "color": "white"
             }
            },
            "header": {
             "fill": {
              "color": "#C8D4E3"
             },
             "line": {
              "color": "white"
             }
            },
            "type": "table"
           }
          ]
         },
         "layout": {
          "annotationdefaults": {
           "arrowcolor": "#2a3f5f",
           "arrowhead": 0,
           "arrowwidth": 1
          },
          "autotypenumbers": "strict",
          "coloraxis": {
           "colorbar": {
            "outlinewidth": 0,
            "ticks": ""
           }
          },
          "colorscale": {
           "diverging": [
            [
             0,
             "#8e0152"
            ],
            [
             0.1,
             "#c51b7d"
            ],
            [
             0.2,
             "#de77ae"
            ],
            [
             0.3,
             "#f1b6da"
            ],
            [
             0.4,
             "#fde0ef"
            ],
            [
             0.5,
             "#f7f7f7"
            ],
            [
             0.6,
             "#e6f5d0"
            ],
            [
             0.7,
             "#b8e186"
            ],
            [
             0.8,
             "#7fbc41"
            ],
            [
             0.9,
             "#4d9221"
            ],
            [
             1,
             "#276419"
            ]
           ],
           "sequential": [
            [
             0,
             "#0d0887"
            ],
            [
             0.1111111111111111,
             "#46039f"
            ],
            [
             0.2222222222222222,
             "#7201a8"
            ],
            [
             0.3333333333333333,
             "#9c179e"
            ],
            [
             0.4444444444444444,
             "#bd3786"
            ],
            [
             0.5555555555555556,
             "#d8576b"
            ],
            [
             0.6666666666666666,
             "#ed7953"
            ],
            [
             0.7777777777777778,
             "#fb9f3a"
            ],
            [
             0.8888888888888888,
             "#fdca26"
            ],
            [
             1,
             "#f0f921"
            ]
           ],
           "sequentialminus": [
            [
             0,
             "#0d0887"
            ],
            [
             0.1111111111111111,
             "#46039f"
            ],
            [
             0.2222222222222222,
             "#7201a8"
            ],
            [
             0.3333333333333333,
             "#9c179e"
            ],
            [
             0.4444444444444444,
             "#bd3786"
            ],
            [
             0.5555555555555556,
             "#d8576b"
            ],
            [
             0.6666666666666666,
             "#ed7953"
            ],
            [
             0.7777777777777778,
             "#fb9f3a"
            ],
            [
             0.8888888888888888,
             "#fdca26"
            ],
            [
             1,
             "#f0f921"
            ]
           ]
          },
          "colorway": [
           "#636efa",
           "#EF553B",
           "#00cc96",
           "#ab63fa",
           "#FFA15A",
           "#19d3f3",
           "#FF6692",
           "#B6E880",
           "#FF97FF",
           "#FECB52"
          ],
          "font": {
           "color": "#2a3f5f"
          },
          "geo": {
           "bgcolor": "white",
           "lakecolor": "white",
           "landcolor": "#E5ECF6",
           "showlakes": true,
           "showland": true,
           "subunitcolor": "white"
          },
          "hoverlabel": {
           "align": "left"
          },
          "hovermode": "closest",
          "mapbox": {
           "style": "light"
          },
          "paper_bgcolor": "white",
          "plot_bgcolor": "#E5ECF6",
          "polar": {
           "angularaxis": {
            "gridcolor": "white",
            "linecolor": "white",
            "ticks": ""
           },
           "bgcolor": "#E5ECF6",
           "radialaxis": {
            "gridcolor": "white",
            "linecolor": "white",
            "ticks": ""
           }
          },
          "scene": {
           "xaxis": {
            "backgroundcolor": "#E5ECF6",
            "gridcolor": "white",
            "gridwidth": 2,
            "linecolor": "white",
            "showbackground": true,
            "ticks": "",
            "zerolinecolor": "white"
           },
           "yaxis": {
            "backgroundcolor": "#E5ECF6",
            "gridcolor": "white",
            "gridwidth": 2,
            "linecolor": "white",
            "showbackground": true,
            "ticks": "",
            "zerolinecolor": "white"
           },
           "zaxis": {
            "backgroundcolor": "#E5ECF6",
            "gridcolor": "white",
            "gridwidth": 2,
            "linecolor": "white",
            "showbackground": true,
            "ticks": "",
            "zerolinecolor": "white"
           }
          },
          "shapedefaults": {
           "line": {
            "color": "#2a3f5f"
           }
          },
          "ternary": {
           "aaxis": {
            "gridcolor": "white",
            "linecolor": "white",
            "ticks": ""
           },
           "baxis": {
            "gridcolor": "white",
            "linecolor": "white",
            "ticks": ""
           },
           "bgcolor": "#E5ECF6",
           "caxis": {
            "gridcolor": "white",
            "linecolor": "white",
            "ticks": ""
           }
          },
          "title": {
           "x": 0.05
          },
          "xaxis": {
           "automargin": true,
           "gridcolor": "white",
           "linecolor": "white",
           "ticks": "",
           "title": {
            "standoff": 15
           },
           "zerolinecolor": "white",
           "zerolinewidth": 2
          },
          "yaxis": {
           "automargin": true,
           "gridcolor": "white",
           "linecolor": "white",
           "ticks": "",
           "title": {
            "standoff": 15
           },
           "zerolinecolor": "white",
           "zerolinewidth": 2
          }
         }
        }
       }
      },
      "text/html": [
       "<div>                            <div id=\"7175a56e-e915-49ac-a86c-c03ddd358941\" class=\"plotly-graph-div\" style=\"height:525px; width:100%;\"></div>            <script type=\"text/javascript\">                require([\"plotly\"], function(Plotly) {                    window.PLOTLYENV=window.PLOTLYENV || {};                                    if (document.getElementById(\"7175a56e-e915-49ac-a86c-c03ddd358941\")) {                    Plotly.newPlot(                        \"7175a56e-e915-49ac-a86c-c03ddd358941\",                        [{\"branchvalues\":\"total\",\"customdata\":[[\"kia\"],[\"kia\"],[\"kia\"],[\"kia\"],[\"chevrolet\"],[\"chevrolet\"],[\"chevrolet\"],[\"chevrolet\"],[\"gmc\"],[\"kia\"],[\"volkswagen\"],[\"volkswagen\"],[\"jeep\"],[\"dodge\"],[\"dodge\"],[\"mercedes-benz\"],[\"ford\"],[\"toyota\"],[\"ford\"],[\"nissan\"],[\"bmw\"],[\"ram\"],[\"bmw\"],[\"bmw\"],[\"bmw\"],[\"bmw\"],[\"chrysler\"],[\"chrysler\"],[\"chrysler\"],[\"bmw\"],[\"nissan\"],[\"jeep\"],[\"jeep\"],[\"jeep\"],[\"jeep\"],[\"bmw\"],[\"jeep\"],[\"bmw\"],[\"jeep\"],[\"gmc\"],[\"volkswagen\"],[\"kia\"],[\"chrysler\"],[\"nissan\"],[\"jeep\"],[\"ram\"],[\"honda\"],[\"toyota\"],[\"kia\"],[\"honda\"],[\"chrysler\"],[\"ram\"],[\"ram\"],[\"ram\"],[\"ram\"],[\"ram\"],[\"ram\"],[\"chrysler\"],[\"ram\"],[\"bmw\"],[\"chevrolet\"],[\"ford\"],[\"ford\"],[\"ford\"],[\"ford\"],[\"ford\"],[\"honda\"],[\"ford\"],[\"kia\"],[\"kia\"],[\"mercedes-benz\"],[\"honda\"],[\"honda\"],[\"nissan\"],[\"nissan\"],[\"dodge\"],[\"volkswagen\"],[\"volkswagen\"],[\"mercedes-benz\"],[\"mercedes-benz\"],[\"honda\"],[\"toyota\"],[\"chevrolet\"],[\"honda\"],[\"chevrolet\"],[\"dodge\"],[\"dodge\"],[\"dodge\"],[\"mercedes-benz\"],[\"mercedes-benz\"],[\"toyota\"],[\"toyota\"],[\"chevrolet\"],[\"gmc\"],[\"volkswagen\"],[\"nissan\"],[\"chrysler\"],[\"chrysler\"],[\"toyota\"],[\"volkswagen\"],[\"toyota\"],[\"mercedes-benz\"],[\"nissan\"],[\"kia\"],[\"audi\"],[\"ford\"],[\"audi\"],[\"audi\"],[\"chrysler\"],[\"audi\"],[\"mercedes-benz\"],[\"toyota\"],[\"volkswagen\"],[\"dodge\"],[\"dodge\"],[\"dodge\"],[\"jeep\"],[\"honda\"],[\"honda\"],[\"mercedes-benz\"],[\"jeep\"],[\"ford\"],[\"chevrolet\"],[\"volkswagen\"],[\"volkswagen\"],[\"dodge\"],[\"chevrolet\"],[\"nissan\"],[\"mercedes-benz\"],[\"nissan\"],[\"honda\"],[\"gmc\"],[\"toyota\"],[\"audi\"],[\"audi\"],[\"audi\"],[\"audi\"],[\"bmw\"],[\"ram\"],[\"audi\"],[\"gmc\"],[\"gmc\"],[\"gmc\"],[\"gmc\"],[\"toyota\"],[\"nissan\"],[\"chrysler\"],[\"audi\"],[\"gmc\"],[\"gmc\"],[\"audi\"],[\"bmw\"],[\"chevrolet\"],[\"chrysler\"],[\"dodge\"],[\"ford\"],[\"gmc\"],[\"honda\"],[\"jeep\"],[\"kia\"],[\"mercedes-benz\"],[\"nissan\"],[\"ram\"],[\"toyota\"],[\"volkswagen\"]],\"domain\":{\"x\":[0.0,1.0],\"y\":[0.0,1.0]},\"hovertemplate\":\"labels=%{label}<br>Count=%{value}<br>parent=%{parent}<br>id=%{id}<br>Manufacturer=%{customdata[0]}<extra></extra>\",\"ids\":[\"kia/sportage\",\"kia/soul s wagon 4d\",\"kia/soul\",\"kia/sorento\",\"chevrolet/silverado 2500hd\",\"chevrolet/silverado 1500 regular\",\"chevrolet/silverado 1500\",\"chevrolet/silverado\",\"gmc/sierra 2500hd\",\"kia/soul wagon 4d\",\"volkswagen/golf gti s hatchback\",\"volkswagen/gti\",\"jeep/grand cherokee\",\"dodge/grand caravan sxt\",\"dodge/grand caravan\",\"mercedes-benz/gla-class gla 45\",\"ford/fusion se\",\"toyota/highlander\",\"ford/fusion\",\"nissan/frontier\",\"bmw/328i\",\"ram/3500\",\"bmw/3 series\",\"bmw/3 series 330i xdrive sedan\",\"bmw/3 series 340i sedan 4d\",\"bmw/4 series 440i xdrive gran\",\"chrysler/300\",\"chrysler/300 limited sedan 4d\",\"chrysler/300 touring l sedan 4d\",\"bmw/3-series\",\"nissan/versa\",\"jeep/wrangler sport suv 2d\",\"jeep/wrangler unlimited\",\"jeep/wrangler unlimited all new\",\"jeep/wrangler unlimited sahara\",\"bmw/x5\",\"jeep/wrangler unlimited sport\",\"bmw/x3\",\"jeep/wrangler\",\"gmc/yukon\",\"volkswagen/passat\",\"kia/optima lx\",\"chrysler/pacifica\",\"nissan/pathfinder\",\"jeep/patriot\",\"ram/pickup 1500\",\"honda/pilot\",\"toyota/prius\",\"kia/optima\",\"honda/odyssey\",\"chrysler/200\",\"ram/1500 regular cab tradesman\",\"ram/1500 quad cab harvest pickup\",\"ram/1500 crew cab big horn\",\"ram/1500 classic regular cab\",\"ram/1500 4x4\",\"ram/1500\",\"chrysler/200 limited\",\"ram/2500\",\"bmw/1 series 128i coupe 2d\",\"chevrolet/equinox\",\"ford/escape\",\"ford/expedition\",\"ford/explorer\",\"ford/f-150\",\"ford/f150\",\"honda/fit\",\"ford/focus\",\"kia/forte\",\"kia/forte koup ex coupe 2d\",\"mercedes-benz/benz e350\",\"honda/accord ex\",\"honda/accord ex-l\",\"nissan/altima\",\"nissan/altima 2.5 s\",\"dodge/avenger\",\"volkswagen/beetle\",\"volkswagen/beetle 1.8t fleet\",\"mercedes-benz/benz\",\"mercedes-benz/benz c300\",\"honda/civic lx\",\"toyota/corolla\",\"chevrolet/corvette\",\"honda/cr-v\",\"chevrolet/cruze\",\"dodge/dakota\",\"dodge/dart\",\"dodge/durango\",\"mercedes-benz/e-class\",\"mercedes-benz/e-class e 350\",\"toyota/tacoma\",\"toyota/tacoma access cab pickup\",\"chevrolet/tahoe\",\"gmc/terrain\",\"volkswagen/tiguan\",\"nissan/titan\",\"chrysler/town & country\",\"chrysler/town and country\",\"toyota/tundra\",\"volkswagen/touareg tdi sport suv\",\"toyota/rav4\",\"mercedes-benz/s-class\",\"nissan/rogue\",\"kia/rio\",\"audi/s5 premium plus coupe 2d\",\"ford/ranger\",\"audi/q5 premium sport utility 4d\",\"audi/q5\",\"chrysler/pt cruiser\",\"audi/q8 premium sport utility 4d\",\"mercedes-benz/c-class c 300\",\"toyota/camry\",\"volkswagen/cc\",\"dodge/challenger\",\"dodge/challenger r/t coupe 2d\",\"dodge/charger\",\"jeep/cherokee\",\"honda/civic\",\"honda/civic ex\",\"mercedes-benz/c-class\",\"jeep/liberty\",\"ford/mustang\",\"chevrolet/impala\",\"volkswagen/jetta\",\"volkswagen/jetta 1.4t s sedan 4d\",\"dodge/journey\",\"chevrolet/malibu\",\"nissan/maxima\",\"mercedes-benz/metris passenger\",\"nissan/murano\",\"honda/accord\",\"gmc/acadia\",\"toyota/4runner\",\"audi/a6 2.0t premium sedan 4d\",\"audi/a6 2.0t premium plus sedan\",\"audi/a6\",\"audi/a4 ultra premium sedan 4d\",\"bmw/5 series\",\"ram/5500\",\"audi/a4\",\"gmc/sierra 1500 regular cab\",\"gmc/sierra 1500 double cab sle\",\"gmc/sierra 1500\",\"gmc/sierra\",\"toyota/sienna\",\"nissan/sentra\",\"chrysler/sebring\",\"audi/s5 premium plus sedan 4d\",\"gmc/sierra 1500 extended cab slt\",\"gmc/sierra 1500 crew cab slt\",\"audi\",\"bmw\",\"chevrolet\",\"chrysler\",\"dodge\",\"ford\",\"gmc\",\"honda\",\"jeep\",\"kia\",\"mercedes-benz\",\"nissan\",\"ram\",\"toyota\",\"volkswagen\"],\"labels\":[\"sportage\",\"soul s wagon 4d\",\"soul\",\"sorento\",\"silverado 2500hd\",\"silverado 1500 regular\",\"silverado 1500\",\"silverado\",\"sierra 2500hd\",\"soul wagon 4d\",\"golf gti s hatchback\",\"gti\",\"grand cherokee\",\"grand caravan sxt\",\"grand caravan\",\"gla-class gla 45\",\"fusion se\",\"highlander\",\"fusion\",\"frontier\",\"328i\",\"3500\",\"3 series\",\"3 series 330i xdrive sedan\",\"3 series 340i sedan 4d\",\"4 series 440i xdrive gran\",\"300\",\"300 limited sedan 4d\",\"300 touring l sedan 4d\",\"3-series\",\"versa\",\"wrangler sport suv 2d\",\"wrangler unlimited\",\"wrangler unlimited all new\",\"wrangler unlimited sahara\",\"x5\",\"wrangler unlimited sport\",\"x3\",\"wrangler\",\"yukon\",\"passat\",\"optima lx\",\"pacifica\",\"pathfinder\",\"patriot\",\"pickup 1500\",\"pilot\",\"prius\",\"optima\",\"odyssey\",\"200\",\"1500 regular cab tradesman\",\"1500 quad cab harvest pickup\",\"1500 crew cab big horn\",\"1500 classic regular cab\",\"1500 4x4\",\"1500\",\"200 limited\",\"2500\",\"1 series 128i coupe 2d\",\"equinox\",\"escape\",\"expedition\",\"explorer\",\"f-150\",\"f150\",\"fit\",\"focus\",\"forte\",\"forte koup ex coupe 2d\",\"benz e350\",\"accord ex\",\"accord ex-l\",\"altima\",\"altima 2.5 s\",\"avenger\",\"beetle\",\"beetle 1.8t fleet\",\"benz\",\"benz c300\",\"civic lx\",\"corolla\",\"corvette\",\"cr-v\",\"cruze\",\"dakota\",\"dart\",\"durango\",\"e-class\",\"e-class e 350\",\"tacoma\",\"tacoma access cab pickup\",\"tahoe\",\"terrain\",\"tiguan\",\"titan\",\"town & country\",\"town and country\",\"tundra\",\"touareg tdi sport suv\",\"rav4\",\"s-class\",\"rogue\",\"rio\",\"s5 premium plus coupe 2d\",\"ranger\",\"q5 premium sport utility 4d\",\"q5\",\"pt cruiser\",\"q8 premium sport utility 4d\",\"c-class c 300\",\"camry\",\"cc\",\"challenger\",\"challenger r/t coupe 2d\",\"charger\",\"cherokee\",\"civic\",\"civic ex\",\"c-class\",\"liberty\",\"mustang\",\"impala\",\"jetta\",\"jetta 1.4t s sedan 4d\",\"journey\",\"malibu\",\"maxima\",\"metris passenger\",\"murano\",\"accord\",\"acadia\",\"4runner\",\"a6 2.0t premium sedan 4d\",\"a6 2.0t premium plus sedan\",\"a6\",\"a4 ultra premium sedan 4d\",\"5 series\",\"5500\",\"a4\",\"sierra 1500 regular cab\",\"sierra 1500 double cab sle\",\"sierra 1500\",\"sierra\",\"sienna\",\"sentra\",\"sebring\",\"s5 premium plus sedan 4d\",\"sierra 1500 extended cab slt\",\"sierra 1500 crew cab slt\",\"audi\",\"bmw\",\"chevrolet\",\"chrysler\",\"dodge\",\"ford\",\"gmc\",\"honda\",\"jeep\",\"kia\",\"mercedes-benz\",\"nissan\",\"ram\",\"toyota\",\"volkswagen\"],\"marker\":{\"colors\":[\"#636efa\",\"#636efa\",\"#636efa\",\"#636efa\",\"#EF553B\",\"#EF553B\",\"#EF553B\",\"#EF553B\",\"#00cc96\",\"#636efa\",\"#ab63fa\",\"#ab63fa\",\"#FFA15A\",\"#19d3f3\",\"#19d3f3\",\"#FF6692\",\"#B6E880\",\"#FF97FF\",\"#B6E880\",\"#FECB52\",\"#636efa\",\"#EF553B\",\"#636efa\",\"#636efa\",\"#636efa\",\"#636efa\",\"#00cc96\",\"#00cc96\",\"#00cc96\",\"#636efa\",\"#FECB52\",\"#FFA15A\",\"#FFA15A\",\"#FFA15A\",\"#FFA15A\",\"#636efa\",\"#FFA15A\",\"#636efa\",\"#FFA15A\",\"#00cc96\",\"#ab63fa\",\"#636efa\",\"#00cc96\",\"#FECB52\",\"#FFA15A\",\"#EF553B\",\"#ab63fa\",\"#FF97FF\",\"#636efa\",\"#ab63fa\",\"#00cc96\",\"#EF553B\",\"#EF553B\",\"#EF553B\",\"#EF553B\",\"#EF553B\",\"#EF553B\",\"#00cc96\",\"#EF553B\",\"#636efa\",\"#EF553B\",\"#B6E880\",\"#B6E880\",\"#B6E880\",\"#B6E880\",\"#B6E880\",\"#ab63fa\",\"#B6E880\",\"#636efa\",\"#636efa\",\"#FF6692\",\"#ab63fa\",\"#ab63fa\",\"#FECB52\",\"#FECB52\",\"#19d3f3\",\"#ab63fa\",\"#ab63fa\",\"#FF6692\",\"#FF6692\",\"#ab63fa\",\"#FF97FF\",\"#EF553B\",\"#ab63fa\",\"#EF553B\",\"#19d3f3\",\"#19d3f3\",\"#19d3f3\",\"#FF6692\",\"#FF6692\",\"#FF97FF\",\"#FF97FF\",\"#EF553B\",\"#00cc96\",\"#ab63fa\",\"#FECB52\",\"#00cc96\",\"#00cc96\",\"#FF97FF\",\"#ab63fa\",\"#FF97FF\",\"#FF6692\",\"#FECB52\",\"#636efa\",\"#FFA15A\",\"#B6E880\",\"#FFA15A\",\"#FFA15A\",\"#00cc96\",\"#FFA15A\",\"#FF6692\",\"#FF97FF\",\"#ab63fa\",\"#19d3f3\",\"#19d3f3\",\"#19d3f3\",\"#FFA15A\",\"#ab63fa\",\"#ab63fa\",\"#FF6692\",\"#FFA15A\",\"#B6E880\",\"#EF553B\",\"#ab63fa\",\"#ab63fa\",\"#19d3f3\",\"#EF553B\",\"#FECB52\",\"#FF6692\",\"#FECB52\",\"#ab63fa\",\"#00cc96\",\"#FF97FF\",\"#FFA15A\",\"#FFA15A\",\"#FFA15A\",\"#FFA15A\",\"#636efa\",\"#EF553B\",\"#FFA15A\",\"#00cc96\",\"#00cc96\",\"#00cc96\",\"#00cc96\",\"#FF97FF\",\"#FECB52\",\"#00cc96\",\"#FFA15A\",\"#00cc96\",\"#00cc96\",\"#FFA15A\",\"#636efa\",\"#EF553B\",\"#00cc96\",\"#19d3f3\",\"#B6E880\",\"#00cc96\",\"#ab63fa\",\"#FFA15A\",\"#636efa\",\"#FF6692\",\"#FECB52\",\"#EF553B\",\"#FF97FF\",\"#ab63fa\"]},\"name\":\"\",\"parents\":[\"kia\",\"kia\",\"kia\",\"kia\",\"chevrolet\",\"chevrolet\",\"chevrolet\",\"chevrolet\",\"gmc\",\"kia\",\"volkswagen\",\"volkswagen\",\"jeep\",\"dodge\",\"dodge\",\"mercedes-benz\",\"ford\",\"toyota\",\"ford\",\"nissan\",\"bmw\",\"ram\",\"bmw\",\"bmw\",\"bmw\",\"bmw\",\"chrysler\",\"chrysler\",\"chrysler\",\"bmw\",\"nissan\",\"jeep\",\"jeep\",\"jeep\",\"jeep\",\"bmw\",\"jeep\",\"bmw\",\"jeep\",\"gmc\",\"volkswagen\",\"kia\",\"chrysler\",\"nissan\",\"jeep\",\"ram\",\"honda\",\"toyota\",\"kia\",\"honda\",\"chrysler\",\"ram\",\"ram\",\"ram\",\"ram\",\"ram\",\"ram\",\"chrysler\",\"ram\",\"bmw\",\"chevrolet\",\"ford\",\"ford\",\"ford\",\"ford\",\"ford\",\"honda\",\"ford\",\"kia\",\"kia\",\"mercedes-benz\",\"honda\",\"honda\",\"nissan\",\"nissan\",\"dodge\",\"volkswagen\",\"volkswagen\",\"mercedes-benz\",\"mercedes-benz\",\"honda\",\"toyota\",\"chevrolet\",\"honda\",\"chevrolet\",\"dodge\",\"dodge\",\"dodge\",\"mercedes-benz\",\"mercedes-benz\",\"toyota\",\"toyota\",\"chevrolet\",\"gmc\",\"volkswagen\",\"nissan\",\"chrysler\",\"chrysler\",\"toyota\",\"volkswagen\",\"toyota\",\"mercedes-benz\",\"nissan\",\"kia\",\"audi\",\"ford\",\"audi\",\"audi\",\"chrysler\",\"audi\",\"mercedes-benz\",\"toyota\",\"volkswagen\",\"dodge\",\"dodge\",\"dodge\",\"jeep\",\"honda\",\"honda\",\"mercedes-benz\",\"jeep\",\"ford\",\"chevrolet\",\"volkswagen\",\"volkswagen\",\"dodge\",\"chevrolet\",\"nissan\",\"mercedes-benz\",\"nissan\",\"honda\",\"gmc\",\"toyota\",\"audi\",\"audi\",\"audi\",\"audi\",\"bmw\",\"ram\",\"audi\",\"gmc\",\"gmc\",\"gmc\",\"gmc\",\"toyota\",\"nissan\",\"chrysler\",\"audi\",\"gmc\",\"gmc\",\"\",\"\",\"\",\"\",\"\",\"\",\"\",\"\",\"\",\"\",\"\",\"\",\"\",\"\",\"\"],\"values\":[177,104,545,302,864,614,2742,1231,468,140,165,148,953,296,799,156,505,506,785,336,333,487,358,300,219,148,346,117,98,138,393,382,507,303,319,340,440,208,1501,395,379,165,116,270,305,100,511,862,356,729,359,117,174,635,383,116,1635,88,940,149,777,1082,489,1008,3189,663,280,858,227,129,157,234,265,1346,229,181,261,199,137,132,356,991,1015,800,633,244,166,328,297,89,1269,474,884,293,175,229,425,216,598,120,767,145,553,98,127,496,184,228,225,153,122,1596,112,361,343,721,392,1341,251,352,381,1176,931,678,184,244,794,369,102,296,1458,353,622,134,186,114,106,241,95,342,335,232,848,479,534,659,104,150,260,229,1724,2434,10485,2094,3683,10251,3892,6225,5483,2243,1689,4680,4682,8219,2421],\"type\":\"sunburst\"}],                        {\"template\":{\"data\":{\"bar\":[{\"error_x\":{\"color\":\"#2a3f5f\"},\"error_y\":{\"color\":\"#2a3f5f\"},\"marker\":{\"line\":{\"color\":\"#E5ECF6\",\"width\":0.5},\"pattern\":{\"fillmode\":\"overlay\",\"size\":10,\"solidity\":0.2}},\"type\":\"bar\"}],\"barpolar\":[{\"marker\":{\"line\":{\"color\":\"#E5ECF6\",\"width\":0.5},\"pattern\":{\"fillmode\":\"overlay\",\"size\":10,\"solidity\":0.2}},\"type\":\"barpolar\"}],\"carpet\":[{\"aaxis\":{\"endlinecolor\":\"#2a3f5f\",\"gridcolor\":\"white\",\"linecolor\":\"white\",\"minorgridcolor\":\"white\",\"startlinecolor\":\"#2a3f5f\"},\"baxis\":{\"endlinecolor\":\"#2a3f5f\",\"gridcolor\":\"white\",\"linecolor\":\"white\",\"minorgridcolor\":\"white\",\"startlinecolor\":\"#2a3f5f\"},\"type\":\"carpet\"}],\"choropleth\":[{\"colorbar\":{\"outlinewidth\":0,\"ticks\":\"\"},\"type\":\"choropleth\"}],\"contour\":[{\"colorbar\":{\"outlinewidth\":0,\"ticks\":\"\"},\"colorscale\":[[0.0,\"#0d0887\"],[0.1111111111111111,\"#46039f\"],[0.2222222222222222,\"#7201a8\"],[0.3333333333333333,\"#9c179e\"],[0.4444444444444444,\"#bd3786\"],[0.5555555555555556,\"#d8576b\"],[0.6666666666666666,\"#ed7953\"],[0.7777777777777778,\"#fb9f3a\"],[0.8888888888888888,\"#fdca26\"],[1.0,\"#f0f921\"]],\"type\":\"contour\"}],\"contourcarpet\":[{\"colorbar\":{\"outlinewidth\":0,\"ticks\":\"\"},\"type\":\"contourcarpet\"}],\"heatmap\":[{\"colorbar\":{\"outlinewidth\":0,\"ticks\":\"\"},\"colorscale\":[[0.0,\"#0d0887\"],[0.1111111111111111,\"#46039f\"],[0.2222222222222222,\"#7201a8\"],[0.3333333333333333,\"#9c179e\"],[0.4444444444444444,\"#bd3786\"],[0.5555555555555556,\"#d8576b\"],[0.6666666666666666,\"#ed7953\"],[0.7777777777777778,\"#fb9f3a\"],[0.8888888888888888,\"#fdca26\"],[1.0,\"#f0f921\"]],\"type\":\"heatmap\"}],\"heatmapgl\":[{\"colorbar\":{\"outlinewidth\":0,\"ticks\":\"\"},\"colorscale\":[[0.0,\"#0d0887\"],[0.1111111111111111,\"#46039f\"],[0.2222222222222222,\"#7201a8\"],[0.3333333333333333,\"#9c179e\"],[0.4444444444444444,\"#bd3786\"],[0.5555555555555556,\"#d8576b\"],[0.6666666666666666,\"#ed7953\"],[0.7777777777777778,\"#fb9f3a\"],[0.8888888888888888,\"#fdca26\"],[1.0,\"#f0f921\"]],\"type\":\"heatmapgl\"}],\"histogram\":[{\"marker\":{\"pattern\":{\"fillmode\":\"overlay\",\"size\":10,\"solidity\":0.2}},\"type\":\"histogram\"}],\"histogram2d\":[{\"colorbar\":{\"outlinewidth\":0,\"ticks\":\"\"},\"colorscale\":[[0.0,\"#0d0887\"],[0.1111111111111111,\"#46039f\"],[0.2222222222222222,\"#7201a8\"],[0.3333333333333333,\"#9c179e\"],[0.4444444444444444,\"#bd3786\"],[0.5555555555555556,\"#d8576b\"],[0.6666666666666666,\"#ed7953\"],[0.7777777777777778,\"#fb9f3a\"],[0.8888888888888888,\"#fdca26\"],[1.0,\"#f0f921\"]],\"type\":\"histogram2d\"}],\"histogram2dcontour\":[{\"colorbar\":{\"outlinewidth\":0,\"ticks\":\"\"},\"colorscale\":[[0.0,\"#0d0887\"],[0.1111111111111111,\"#46039f\"],[0.2222222222222222,\"#7201a8\"],[0.3333333333333333,\"#9c179e\"],[0.4444444444444444,\"#bd3786\"],[0.5555555555555556,\"#d8576b\"],[0.6666666666666666,\"#ed7953\"],[0.7777777777777778,\"#fb9f3a\"],[0.8888888888888888,\"#fdca26\"],[1.0,\"#f0f921\"]],\"type\":\"histogram2dcontour\"}],\"mesh3d\":[{\"colorbar\":{\"outlinewidth\":0,\"ticks\":\"\"},\"type\":\"mesh3d\"}],\"parcoords\":[{\"line\":{\"colorbar\":{\"outlinewidth\":0,\"ticks\":\"\"}},\"type\":\"parcoords\"}],\"pie\":[{\"automargin\":true,\"type\":\"pie\"}],\"scatter\":[{\"marker\":{\"colorbar\":{\"outlinewidth\":0,\"ticks\":\"\"}},\"type\":\"scatter\"}],\"scatter3d\":[{\"line\":{\"colorbar\":{\"outlinewidth\":0,\"ticks\":\"\"}},\"marker\":{\"colorbar\":{\"outlinewidth\":0,\"ticks\":\"\"}},\"type\":\"scatter3d\"}],\"scattercarpet\":[{\"marker\":{\"colorbar\":{\"outlinewidth\":0,\"ticks\":\"\"}},\"type\":\"scattercarpet\"}],\"scattergeo\":[{\"marker\":{\"colorbar\":{\"outlinewidth\":0,\"ticks\":\"\"}},\"type\":\"scattergeo\"}],\"scattergl\":[{\"marker\":{\"colorbar\":{\"outlinewidth\":0,\"ticks\":\"\"}},\"type\":\"scattergl\"}],\"scattermapbox\":[{\"marker\":{\"colorbar\":{\"outlinewidth\":0,\"ticks\":\"\"}},\"type\":\"scattermapbox\"}],\"scatterpolar\":[{\"marker\":{\"colorbar\":{\"outlinewidth\":0,\"ticks\":\"\"}},\"type\":\"scatterpolar\"}],\"scatterpolargl\":[{\"marker\":{\"colorbar\":{\"outlinewidth\":0,\"ticks\":\"\"}},\"type\":\"scatterpolargl\"}],\"scatterternary\":[{\"marker\":{\"colorbar\":{\"outlinewidth\":0,\"ticks\":\"\"}},\"type\":\"scatterternary\"}],\"surface\":[{\"colorbar\":{\"outlinewidth\":0,\"ticks\":\"\"},\"colorscale\":[[0.0,\"#0d0887\"],[0.1111111111111111,\"#46039f\"],[0.2222222222222222,\"#7201a8\"],[0.3333333333333333,\"#9c179e\"],[0.4444444444444444,\"#bd3786\"],[0.5555555555555556,\"#d8576b\"],[0.6666666666666666,\"#ed7953\"],[0.7777777777777778,\"#fb9f3a\"],[0.8888888888888888,\"#fdca26\"],[1.0,\"#f0f921\"]],\"type\":\"surface\"}],\"table\":[{\"cells\":{\"fill\":{\"color\":\"#EBF0F8\"},\"line\":{\"color\":\"white\"}},\"header\":{\"fill\":{\"color\":\"#C8D4E3\"},\"line\":{\"color\":\"white\"}},\"type\":\"table\"}]},\"layout\":{\"annotationdefaults\":{\"arrowcolor\":\"#2a3f5f\",\"arrowhead\":0,\"arrowwidth\":1},\"autotypenumbers\":\"strict\",\"coloraxis\":{\"colorbar\":{\"outlinewidth\":0,\"ticks\":\"\"}},\"colorscale\":{\"diverging\":[[0,\"#8e0152\"],[0.1,\"#c51b7d\"],[0.2,\"#de77ae\"],[0.3,\"#f1b6da\"],[0.4,\"#fde0ef\"],[0.5,\"#f7f7f7\"],[0.6,\"#e6f5d0\"],[0.7,\"#b8e186\"],[0.8,\"#7fbc41\"],[0.9,\"#4d9221\"],[1,\"#276419\"]],\"sequential\":[[0.0,\"#0d0887\"],[0.1111111111111111,\"#46039f\"],[0.2222222222222222,\"#7201a8\"],[0.3333333333333333,\"#9c179e\"],[0.4444444444444444,\"#bd3786\"],[0.5555555555555556,\"#d8576b\"],[0.6666666666666666,\"#ed7953\"],[0.7777777777777778,\"#fb9f3a\"],[0.8888888888888888,\"#fdca26\"],[1.0,\"#f0f921\"]],\"sequentialminus\":[[0.0,\"#0d0887\"],[0.1111111111111111,\"#46039f\"],[0.2222222222222222,\"#7201a8\"],[0.3333333333333333,\"#9c179e\"],[0.4444444444444444,\"#bd3786\"],[0.5555555555555556,\"#d8576b\"],[0.6666666666666666,\"#ed7953\"],[0.7777777777777778,\"#fb9f3a\"],[0.8888888888888888,\"#fdca26\"],[1.0,\"#f0f921\"]]},\"colorway\":[\"#636efa\",\"#EF553B\",\"#00cc96\",\"#ab63fa\",\"#FFA15A\",\"#19d3f3\",\"#FF6692\",\"#B6E880\",\"#FF97FF\",\"#FECB52\"],\"font\":{\"color\":\"#2a3f5f\"},\"geo\":{\"bgcolor\":\"white\",\"lakecolor\":\"white\",\"landcolor\":\"#E5ECF6\",\"showlakes\":true,\"showland\":true,\"subunitcolor\":\"white\"},\"hoverlabel\":{\"align\":\"left\"},\"hovermode\":\"closest\",\"mapbox\":{\"style\":\"light\"},\"paper_bgcolor\":\"white\",\"plot_bgcolor\":\"#E5ECF6\",\"polar\":{\"angularaxis\":{\"gridcolor\":\"white\",\"linecolor\":\"white\",\"ticks\":\"\"},\"bgcolor\":\"#E5ECF6\",\"radialaxis\":{\"gridcolor\":\"white\",\"linecolor\":\"white\",\"ticks\":\"\"}},\"scene\":{\"xaxis\":{\"backgroundcolor\":\"#E5ECF6\",\"gridcolor\":\"white\",\"gridwidth\":2,\"linecolor\":\"white\",\"showbackground\":true,\"ticks\":\"\",\"zerolinecolor\":\"white\"},\"yaxis\":{\"backgroundcolor\":\"#E5ECF6\",\"gridcolor\":\"white\",\"gridwidth\":2,\"linecolor\":\"white\",\"showbackground\":true,\"ticks\":\"\",\"zerolinecolor\":\"white\"},\"zaxis\":{\"backgroundcolor\":\"#E5ECF6\",\"gridcolor\":\"white\",\"gridwidth\":2,\"linecolor\":\"white\",\"showbackground\":true,\"ticks\":\"\",\"zerolinecolor\":\"white\"}},\"shapedefaults\":{\"line\":{\"color\":\"#2a3f5f\"}},\"ternary\":{\"aaxis\":{\"gridcolor\":\"white\",\"linecolor\":\"white\",\"ticks\":\"\"},\"baxis\":{\"gridcolor\":\"white\",\"linecolor\":\"white\",\"ticks\":\"\"},\"bgcolor\":\"#E5ECF6\",\"caxis\":{\"gridcolor\":\"white\",\"linecolor\":\"white\",\"ticks\":\"\"}},\"title\":{\"x\":0.05},\"xaxis\":{\"automargin\":true,\"gridcolor\":\"white\",\"linecolor\":\"white\",\"ticks\":\"\",\"title\":{\"standoff\":15},\"zerolinecolor\":\"white\",\"zerolinewidth\":2},\"yaxis\":{\"automargin\":true,\"gridcolor\":\"white\",\"linecolor\":\"white\",\"ticks\":\"\",\"title\":{\"standoff\":15},\"zerolinecolor\":\"white\",\"zerolinewidth\":2}}},\"legend\":{\"tracegroupgap\":0},\"margin\":{\"t\":1,\"b\":1,\"r\":1,\"l\":1}},                        {\"responsive\": true}                    ).then(function(){\n",
       "                            \n",
       "var gd = document.getElementById('7175a56e-e915-49ac-a86c-c03ddd358941');\n",
       "var x = new MutationObserver(function (mutations, observer) {{\n",
       "        var display = window.getComputedStyle(gd).display;\n",
       "        if (!display || display === 'none') {{\n",
       "            console.log([gd, 'removed!']);\n",
       "            Plotly.purge(gd);\n",
       "            observer.disconnect();\n",
       "        }}\n",
       "}});\n",
       "\n",
       "// Listen for the removal of the full notebook cells\n",
       "var notebookContainer = gd.closest('#notebook-container');\n",
       "if (notebookContainer) {{\n",
       "    x.observe(notebookContainer, {childList: true});\n",
       "}}\n",
       "\n",
       "// Listen for the clearing of the current output cell\n",
       "var outputEl = gd.closest('.output');\n",
       "if (outputEl) {{\n",
       "    x.observe(outputEl, {childList: true});\n",
       "}}\n",
       "\n",
       "                        })                };                });            </script>        </div>"
      ]
     },
     "metadata": {},
     "output_type": "display_data"
    }
   ],
   "source": [
    "fig =px.sunburst(\n",
    "    model_count_df,path=['Manufacturer','Model'],values='Count', color='Manufacturer'\n",
    "                  )\n",
    "fig.update_layout(margin=dict(t=1, b=1, r=1, l=1))\n",
    "fig.show()"
   ]
  },
  {
   "cell_type": "code",
   "execution_count": 23,
   "id": "ee7b2017",
   "metadata": {},
   "outputs": [],
   "source": [
    "ford_map_df = ford_df.rename(columns = {'lat': 'latitude', 'long': 'longitude'})"
   ]
  },
  {
   "cell_type": "code",
   "execution_count": 24,
   "id": "6323985f",
   "metadata": {},
   "outputs": [
    {
     "data": {
      "text/html": [
       "<div>\n",
       "<style scoped>\n",
       "    .dataframe tbody tr th:only-of-type {\n",
       "        vertical-align: middle;\n",
       "    }\n",
       "\n",
       "    .dataframe tbody tr th {\n",
       "        vertical-align: top;\n",
       "    }\n",
       "\n",
       "    .dataframe thead th {\n",
       "        text-align: right;\n",
       "    }\n",
       "</style>\n",
       "<table border=\"1\" class=\"dataframe\">\n",
       "  <thead>\n",
       "    <tr style=\"text-align: right;\">\n",
       "      <th></th>\n",
       "      <th>id</th>\n",
       "      <th>region</th>\n",
       "      <th>price</th>\n",
       "      <th>year</th>\n",
       "      <th>manufacturer</th>\n",
       "      <th>model</th>\n",
       "      <th>condition</th>\n",
       "      <th>cylinders</th>\n",
       "      <th>fuel</th>\n",
       "      <th>odometer</th>\n",
       "      <th>title_status</th>\n",
       "      <th>transmission</th>\n",
       "      <th>drive</th>\n",
       "      <th>type</th>\n",
       "      <th>paint_color</th>\n",
       "      <th>state</th>\n",
       "      <th>latitude</th>\n",
       "      <th>longitude</th>\n",
       "      <th>posting_date</th>\n",
       "    </tr>\n",
       "  </thead>\n",
       "  <tbody>\n",
       "    <tr>\n",
       "      <th>31</th>\n",
       "      <td>7316356412</td>\n",
       "      <td>auburn</td>\n",
       "      <td>15000</td>\n",
       "      <td>2013.0</td>\n",
       "      <td>ford</td>\n",
       "      <td>f-150 xlt</td>\n",
       "      <td>excellent</td>\n",
       "      <td>6 cylinders</td>\n",
       "      <td>gas</td>\n",
       "      <td>128000.0</td>\n",
       "      <td>clean</td>\n",
       "      <td>automatic</td>\n",
       "      <td>rwd</td>\n",
       "      <td>truck</td>\n",
       "      <td>black</td>\n",
       "      <td>al</td>\n",
       "      <td>32.592000</td>\n",
       "      <td>-85.518900</td>\n",
       "      <td>2021-05-03T14:02:03-0500</td>\n",
       "    </tr>\n",
       "    <tr>\n",
       "      <th>44</th>\n",
       "      <td>7315275942</td>\n",
       "      <td>auburn</td>\n",
       "      <td>30990</td>\n",
       "      <td>2019.0</td>\n",
       "      <td>ford</td>\n",
       "      <td>ranger supercrew xl pickup</td>\n",
       "      <td>good</td>\n",
       "      <td>NaN</td>\n",
       "      <td>other</td>\n",
       "      <td>1834.0</td>\n",
       "      <td>clean</td>\n",
       "      <td>other</td>\n",
       "      <td>NaN</td>\n",
       "      <td>pickup</td>\n",
       "      <td>black</td>\n",
       "      <td>al</td>\n",
       "      <td>32.590000</td>\n",
       "      <td>-85.480000</td>\n",
       "      <td>2021-05-01T09:21:34-0500</td>\n",
       "    </tr>\n",
       "    <tr>\n",
       "      <th>47</th>\n",
       "      <td>7314910156</td>\n",
       "      <td>auburn</td>\n",
       "      <td>34590</td>\n",
       "      <td>2018.0</td>\n",
       "      <td>ford</td>\n",
       "      <td>f150 super cab xl pickup 4d</td>\n",
       "      <td>good</td>\n",
       "      <td>6 cylinders</td>\n",
       "      <td>gas</td>\n",
       "      <td>20856.0</td>\n",
       "      <td>clean</td>\n",
       "      <td>other</td>\n",
       "      <td>NaN</td>\n",
       "      <td>pickup</td>\n",
       "      <td>white</td>\n",
       "      <td>al</td>\n",
       "      <td>32.590000</td>\n",
       "      <td>-85.480000</td>\n",
       "      <td>2021-04-30T12:51:31-0500</td>\n",
       "    </tr>\n",
       "    <tr>\n",
       "      <th>50</th>\n",
       "      <td>7314811909</td>\n",
       "      <td>auburn</td>\n",
       "      <td>38990</td>\n",
       "      <td>2020.0</td>\n",
       "      <td>ford</td>\n",
       "      <td>f150 supercrew cab xlt</td>\n",
       "      <td>good</td>\n",
       "      <td>6 cylinders</td>\n",
       "      <td>gas</td>\n",
       "      <td>12231.0</td>\n",
       "      <td>clean</td>\n",
       "      <td>other</td>\n",
       "      <td>NaN</td>\n",
       "      <td>pickup</td>\n",
       "      <td>NaN</td>\n",
       "      <td>al</td>\n",
       "      <td>32.590000</td>\n",
       "      <td>-85.480000</td>\n",
       "      <td>2021-04-30T10:11:00-0500</td>\n",
       "    </tr>\n",
       "    <tr>\n",
       "      <th>53</th>\n",
       "      <td>7314584322</td>\n",
       "      <td>auburn</td>\n",
       "      <td>27990</td>\n",
       "      <td>2020.0</td>\n",
       "      <td>ford</td>\n",
       "      <td>ranger supercab xl pickup</td>\n",
       "      <td>good</td>\n",
       "      <td>NaN</td>\n",
       "      <td>gas</td>\n",
       "      <td>10688.0</td>\n",
       "      <td>clean</td>\n",
       "      <td>other</td>\n",
       "      <td>NaN</td>\n",
       "      <td>pickup</td>\n",
       "      <td>white</td>\n",
       "      <td>al</td>\n",
       "      <td>32.590000</td>\n",
       "      <td>-85.480000</td>\n",
       "      <td>2021-04-29T18:11:11-0500</td>\n",
       "    </tr>\n",
       "    <tr>\n",
       "      <th>...</th>\n",
       "      <td>...</td>\n",
       "      <td>...</td>\n",
       "      <td>...</td>\n",
       "      <td>...</td>\n",
       "      <td>...</td>\n",
       "      <td>...</td>\n",
       "      <td>...</td>\n",
       "      <td>...</td>\n",
       "      <td>...</td>\n",
       "      <td>...</td>\n",
       "      <td>...</td>\n",
       "      <td>...</td>\n",
       "      <td>...</td>\n",
       "      <td>...</td>\n",
       "      <td>...</td>\n",
       "      <td>...</td>\n",
       "      <td>...</td>\n",
       "      <td>...</td>\n",
       "      <td>...</td>\n",
       "    </tr>\n",
       "    <tr>\n",
       "      <th>426774</th>\n",
       "      <td>7303328987</td>\n",
       "      <td>wyoming</td>\n",
       "      <td>49995</td>\n",
       "      <td>2018.0</td>\n",
       "      <td>ford</td>\n",
       "      <td>expedition</td>\n",
       "      <td>good</td>\n",
       "      <td>6 cylinders</td>\n",
       "      <td>gas</td>\n",
       "      <td>56848.0</td>\n",
       "      <td>clean</td>\n",
       "      <td>automatic</td>\n",
       "      <td>4wd</td>\n",
       "      <td>SUV</td>\n",
       "      <td>black</td>\n",
       "      <td>wy</td>\n",
       "      <td>44.354923</td>\n",
       "      <td>-106.680384</td>\n",
       "      <td>2021-04-07T14:43:11-0600</td>\n",
       "    </tr>\n",
       "    <tr>\n",
       "      <th>426776</th>\n",
       "      <td>7303328841</td>\n",
       "      <td>wyoming</td>\n",
       "      <td>52995</td>\n",
       "      <td>2019.0</td>\n",
       "      <td>ford</td>\n",
       "      <td>f250</td>\n",
       "      <td>good</td>\n",
       "      <td>8 cylinders</td>\n",
       "      <td>gas</td>\n",
       "      <td>31558.0</td>\n",
       "      <td>clean</td>\n",
       "      <td>automatic</td>\n",
       "      <td>4wd</td>\n",
       "      <td>truck</td>\n",
       "      <td>white</td>\n",
       "      <td>wy</td>\n",
       "      <td>44.354923</td>\n",
       "      <td>-106.680384</td>\n",
       "      <td>2021-04-07T14:42:56-0600</td>\n",
       "    </tr>\n",
       "    <tr>\n",
       "      <th>426785</th>\n",
       "      <td>7303314912</td>\n",
       "      <td>wyoming</td>\n",
       "      <td>23495</td>\n",
       "      <td>2015.0</td>\n",
       "      <td>ford</td>\n",
       "      <td>f150 xlt 4x4</td>\n",
       "      <td>like new</td>\n",
       "      <td>8 cylinders</td>\n",
       "      <td>gas</td>\n",
       "      <td>146795.0</td>\n",
       "      <td>clean</td>\n",
       "      <td>automatic</td>\n",
       "      <td>4wd</td>\n",
       "      <td>truck</td>\n",
       "      <td>black</td>\n",
       "      <td>wy</td>\n",
       "      <td>45.781300</td>\n",
       "      <td>-108.572700</td>\n",
       "      <td>2021-04-07T14:18:57-0600</td>\n",
       "    </tr>\n",
       "    <tr>\n",
       "      <th>426792</th>\n",
       "      <td>7303114896</td>\n",
       "      <td>wyoming</td>\n",
       "      <td>32999</td>\n",
       "      <td>2014.0</td>\n",
       "      <td>ford</td>\n",
       "      <td>f350, xlt</td>\n",
       "      <td>excellent</td>\n",
       "      <td>8 cylinders</td>\n",
       "      <td>diesel</td>\n",
       "      <td>154642.0</td>\n",
       "      <td>clean</td>\n",
       "      <td>automatic</td>\n",
       "      <td>4wd</td>\n",
       "      <td>pickup</td>\n",
       "      <td>brown</td>\n",
       "      <td>wy</td>\n",
       "      <td>41.138284</td>\n",
       "      <td>-104.784799</td>\n",
       "      <td>2021-04-07T09:06:54-0600</td>\n",
       "    </tr>\n",
       "    <tr>\n",
       "      <th>426817</th>\n",
       "      <td>7302488878</td>\n",
       "      <td>wyoming</td>\n",
       "      <td>20590</td>\n",
       "      <td>2018.0</td>\n",
       "      <td>ford</td>\n",
       "      <td>edge se sport utility 4d</td>\n",
       "      <td>good</td>\n",
       "      <td>NaN</td>\n",
       "      <td>gas</td>\n",
       "      <td>37164.0</td>\n",
       "      <td>clean</td>\n",
       "      <td>other</td>\n",
       "      <td>fwd</td>\n",
       "      <td>SUV</td>\n",
       "      <td>black</td>\n",
       "      <td>wy</td>\n",
       "      <td>33.786500</td>\n",
       "      <td>-84.445400</td>\n",
       "      <td>2021-04-06T03:50:18-0600</td>\n",
       "    </tr>\n",
       "  </tbody>\n",
       "</table>\n",
       "<p>37467 rows × 19 columns</p>\n",
       "</div>"
      ],
      "text/plain": [
       "                id   region  price    year manufacturer  \\\n",
       "31      7316356412   auburn  15000  2013.0         ford   \n",
       "44      7315275942   auburn  30990  2019.0         ford   \n",
       "47      7314910156   auburn  34590  2018.0         ford   \n",
       "50      7314811909   auburn  38990  2020.0         ford   \n",
       "53      7314584322   auburn  27990  2020.0         ford   \n",
       "...            ...      ...    ...     ...          ...   \n",
       "426774  7303328987  wyoming  49995  2018.0         ford   \n",
       "426776  7303328841  wyoming  52995  2019.0         ford   \n",
       "426785  7303314912  wyoming  23495  2015.0         ford   \n",
       "426792  7303114896  wyoming  32999  2014.0         ford   \n",
       "426817  7302488878  wyoming  20590  2018.0         ford   \n",
       "\n",
       "                              model  condition    cylinders    fuel  odometer  \\\n",
       "31                        f-150 xlt  excellent  6 cylinders     gas  128000.0   \n",
       "44       ranger supercrew xl pickup       good          NaN   other    1834.0   \n",
       "47      f150 super cab xl pickup 4d       good  6 cylinders     gas   20856.0   \n",
       "50           f150 supercrew cab xlt       good  6 cylinders     gas   12231.0   \n",
       "53        ranger supercab xl pickup       good          NaN     gas   10688.0   \n",
       "...                             ...        ...          ...     ...       ...   \n",
       "426774                   expedition       good  6 cylinders     gas   56848.0   \n",
       "426776                         f250       good  8 cylinders     gas   31558.0   \n",
       "426785                 f150 xlt 4x4   like new  8 cylinders     gas  146795.0   \n",
       "426792                    f350, xlt  excellent  8 cylinders  diesel  154642.0   \n",
       "426817     edge se sport utility 4d       good          NaN     gas   37164.0   \n",
       "\n",
       "       title_status transmission drive    type paint_color state   latitude  \\\n",
       "31            clean    automatic   rwd   truck       black    al  32.592000   \n",
       "44            clean        other   NaN  pickup       black    al  32.590000   \n",
       "47            clean        other   NaN  pickup       white    al  32.590000   \n",
       "50            clean        other   NaN  pickup         NaN    al  32.590000   \n",
       "53            clean        other   NaN  pickup       white    al  32.590000   \n",
       "...             ...          ...   ...     ...         ...   ...        ...   \n",
       "426774        clean    automatic   4wd     SUV       black    wy  44.354923   \n",
       "426776        clean    automatic   4wd   truck       white    wy  44.354923   \n",
       "426785        clean    automatic   4wd   truck       black    wy  45.781300   \n",
       "426792        clean    automatic   4wd  pickup       brown    wy  41.138284   \n",
       "426817        clean        other   fwd     SUV       black    wy  33.786500   \n",
       "\n",
       "         longitude              posting_date  \n",
       "31      -85.518900  2021-05-03T14:02:03-0500  \n",
       "44      -85.480000  2021-05-01T09:21:34-0500  \n",
       "47      -85.480000  2021-04-30T12:51:31-0500  \n",
       "50      -85.480000  2021-04-30T10:11:00-0500  \n",
       "53      -85.480000  2021-04-29T18:11:11-0500  \n",
       "...            ...                       ...  \n",
       "426774 -106.680384  2021-04-07T14:43:11-0600  \n",
       "426776 -106.680384  2021-04-07T14:42:56-0600  \n",
       "426785 -108.572700  2021-04-07T14:18:57-0600  \n",
       "426792 -104.784799  2021-04-07T09:06:54-0600  \n",
       "426817  -84.445400  2021-04-06T03:50:18-0600  \n",
       "\n",
       "[37467 rows x 19 columns]"
      ]
     },
     "execution_count": 24,
     "metadata": {},
     "output_type": "execute_result"
    }
   ],
   "source": [
    "ford_map_df"
   ]
  },
  {
   "cell_type": "code",
   "execution_count": 26,
   "id": "45104e12",
   "metadata": {},
   "outputs": [],
   "source": [
    "ford_map_df = chevrolet_df.rename(columns = {'lat': 'latitude', 'long': 'longitude'})\n",
    "ford_map_df.latitude.fillna(0, inplace = True)\n",
    "ford_map_df.longitude.fillna(0, inplace = True) "
   ]
  },
  {
   "cell_type": "code",
   "execution_count": 27,
   "id": "be509fd0",
   "metadata": {},
   "outputs": [
    {
     "data": {
      "application/vnd.jupyter.widget-view+json": {
       "model_id": "e1559d96376d4ec8a5ee8c32b1f68e22",
       "version_major": 2,
       "version_minor": 0
      },
      "text/plain": [
       "Figure(layout=FigureLayout(height='420px'))"
      ]
     },
     "metadata": {},
     "output_type": "display_data"
    }
   ],
   "source": [
    "locations = ford_map_df[['latitude', 'longitude']]\n",
    "fig = gmaps.figure()\n",
    "heat_layer = gmaps.heatmap_layer(locations, dissipating = False, \n",
    "                                 max_intensity = 1000, point_radius = 3)\n",
    "fig.add_layer(heat_layer)\n",
    "fig"
   ]
  },
  {
   "cell_type": "code",
   "execution_count": 28,
   "id": "ccbb8c22",
   "metadata": {},
   "outputs": [],
   "source": [
    "chevrolet_map_df = chevrolet_df.rename(columns = {'lat': 'latitude', 'long': 'longitude'})\n",
    "chevrolet_map_df.latitude.fillna(0, inplace = True)\n",
    "chevrolet_map_df.longitude.fillna(0, inplace = True) "
   ]
  },
  {
   "cell_type": "code",
   "execution_count": 29,
   "id": "9a584f72",
   "metadata": {
    "scrolled": true
   },
   "outputs": [
    {
     "data": {
      "application/vnd.jupyter.widget-view+json": {
       "model_id": "11a7738d43d342bda03b0b601a5f5096",
       "version_major": 2,
       "version_minor": 0
      },
      "text/plain": [
       "Figure(layout=FigureLayout(height='420px'))"
      ]
     },
     "metadata": {},
     "output_type": "display_data"
    }
   ],
   "source": [
    "locations = chevrolet_map_df[['latitude', 'longitude']]\n",
    "fig = gmaps.figure()\n",
    "heat_layer = gmaps.heatmap_layer(locations, dissipating = False, \n",
    "                                 max_intensity = 1000, point_radius = 3)\n",
    "fig.add_layer(heat_layer)\n",
    "fig"
   ]
  },
  {
   "cell_type": "markdown",
   "id": "13f7d957",
   "metadata": {},
   "source": [
    "# Vehicle Type Exploratory Data Analysis "
   ]
  },
  {
   "cell_type": "code",
   "execution_count": 30,
   "id": "2f2c7814",
   "metadata": {},
   "outputs": [
    {
     "data": {
      "text/plain": [
       "sedan          57209\n",
       "SUV            45309\n",
       "pickup         26676\n",
       "truck          19693\n",
       "other          14149\n",
       "coupe          13780\n",
       "hatchback      12299\n",
       "wagon           6159\n",
       "convertible     5254\n",
       "van             5087\n",
       "mini-van        3697\n",
       "offroad          543\n",
       "bus              238\n",
       "Name: type, dtype: int64"
      ]
     },
     "execution_count": 30,
     "metadata": {},
     "output_type": "execute_result"
    }
   ],
   "source": [
    "used_cars_df_nonull['type'].value_counts()"
   ]
  },
  {
   "cell_type": "code",
   "execution_count": 31,
   "id": "b10f154e",
   "metadata": {},
   "outputs": [],
   "source": [
    "#Creating Individual Dataframes for every vehicle type\n",
    "sedan_df = used_cars_df_nonull[used_cars_df_nonull['type'] == 'sedan']\n",
    "SUV_df = used_cars_df_nonull[used_cars_df_nonull['type'] == 'SUV']\n",
    "pickup_df = used_cars_df_nonull[used_cars_df_nonull['type'] == 'pickup']\n",
    "coupe_df = used_cars_df_nonull[used_cars_df_nonull['type'] == 'coupe']\n",
    "hb_df = used_cars_df_nonull[used_cars_df_nonull['type'] == 'hatchback']"
   ]
  },
  {
   "cell_type": "code",
   "execution_count": 32,
   "id": "96e43e81",
   "metadata": {},
   "outputs": [],
   "source": [
    "sedan_avg_price = sedan_df.groupby(['year']).mean()['price']"
   ]
  },
  {
   "cell_type": "code",
   "execution_count": 33,
   "id": "c830c76e",
   "metadata": {
    "scrolled": true
   },
   "outputs": [
    {
     "data": {
      "text/plain": [
       "year\n",
       "1924.0    22000.000000\n",
       "1927.0    11500.000000\n",
       "1928.0    29271.428571\n",
       "1929.0    21975.000000\n",
       "1930.0    18880.000000\n",
       "              ...     \n",
       "2017.0    19886.166963\n",
       "2018.0    23933.222827\n",
       "2019.0    26066.865821\n",
       "2020.0    30241.508333\n",
       "2021.0    14764.649485\n",
       "Name: price, Length: 93, dtype: float64"
      ]
     },
     "execution_count": 33,
     "metadata": {},
     "output_type": "execute_result"
    }
   ],
   "source": [
    "sedan_avg_price = sedan_df.groupby(['year']).mean()['price']\n",
    "sedan_avg_price"
   ]
  },
  {
   "cell_type": "code",
   "execution_count": 34,
   "id": "66081136",
   "metadata": {},
   "outputs": [],
   "source": [
    "sedan_avg_year = sedan_df.groupby(['price']).mean()['year']"
   ]
  },
  {
   "cell_type": "code",
   "execution_count": null,
   "id": "d6f2b767",
   "metadata": {},
   "outputs": [],
   "source": []
  }
 ],
 "metadata": {
  "kernelspec": {
   "display_name": "PythonData",
   "language": "python",
   "name": "pythondata"
  },
  "language_info": {
   "codemirror_mode": {
    "name": "ipython",
    "version": 3
   },
   "file_extension": ".py",
   "mimetype": "text/x-python",
   "name": "python",
   "nbconvert_exporter": "python",
   "pygments_lexer": "ipython3",
   "version": "3.7.13"
  },
  "toc": {
   "base_numbering": 1,
   "nav_menu": {},
   "number_sections": true,
   "sideBar": true,
   "skip_h1_title": false,
   "title_cell": "Table of Contents",
   "title_sidebar": "Contents",
   "toc_cell": false,
   "toc_position": {},
   "toc_section_display": true,
   "toc_window_display": false
  }
 },
 "nbformat": 4,
 "nbformat_minor": 5
}
